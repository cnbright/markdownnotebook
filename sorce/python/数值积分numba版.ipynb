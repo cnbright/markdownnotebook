{
 "cells": [
  {
   "cell_type": "code",
   "execution_count": 1,
   "id": "d60b3fce-95d2-45ae-8cfd-71718cee8aec",
   "metadata": {},
   "outputs": [],
   "source": [
    "import numpy as np\n",
    "from numba import njit,jit,prange"
   ]
  },
  {
   "cell_type": "markdown",
   "id": "d70534b9-471d-4393-b1c3-cddba9cb8b49",
   "metadata": {},
   "source": [
    "$$\n",
    "\\int_{0}^{\\pi} \\cos \\left(\\frac{1}{1+x^{2}}\\right) d x\n",
    "\\\\\n",
    "\\int_{-h}^{h} f(x) \\mathrm{d} x=\\frac{h}{3}\\left(f_{1}+4 f_{0}+f_{-1}\\right)+O\\left(h^{5}\\right)\n",
    "$$"
   ]
  },
  {
   "cell_type": "markdown",
   "id": "f59a485c-f311-4713-aef2-e55fdd75519a",
   "metadata": {},
   "source": [
    "$$\n",
    "\\begin{aligned}\n",
    "E\n",
    "&=\\frac{\\sigma x}{2 \\varepsilon_{0}} \\int_{R_{1}}^{R_{2}} \\frac{r d r}{\\left(x^{2}+r^{2}\\right)^{3 / 2}}\n",
    "\\\\\n",
    "&=\\frac{\\sigma x}{2 \\varepsilon_{0}} \\int x^{m}\\left(a+b x^{n}\\right)^{p} d x \\quad \\rightarrow \\frac{\\sigma x}{2 \\varepsilon_{0}} \\frac{\\left(a+b x^{n}\\right)^{p+1}}{b n(p+1)}\n",
    "\\\\\n",
    "&=-\\frac{\\sigma x}{2 \\varepsilon_{0}}\\frac{1}{\\sqrt{r^{2}+x^{2}}}\n",
    "\\\\\n",
    "&\\sigma = 0.5,\\quad x = 0.01\n",
    "\\end{aligned}\n",
    "$$"
   ]
  },
  {
   "cell_type": "code",
   "execution_count": 2,
   "id": "c91e1dc7-bb4c-4542-9560-a71f3991be7f",
   "metadata": {},
   "outputs": [],
   "source": [
    "@njit\n",
    "def simpson_int(int_fun,h):\n",
    "    result = 0.\n",
    "    \n",
    "    for i in np.arange(0,len(int_fun),2):\n",
    "        result += (int_fun[i]+4*int_fun[i+1]+int_fun[i+2])*h/3\n",
    "        \n",
    "    return result\n",
    "\n",
    "@njit\n",
    "def rectangular_int(int_fun,h):\n",
    "    result = 0.\n",
    "    \n",
    "    for i in np.arange(0,len(int_fun),1):\n",
    "        result += int_fun[i]*h\n",
    "        \n",
    "    return result\n",
    "\n",
    "\n",
    "@njit\n",
    "def ladder_int(int_fun,h):\n",
    "    result = 0.\n",
    "    \n",
    "    for i in np.arange(0,len(int_fun),1):\n",
    "        result += (int_fun[i]+int_fun[i+1])*h/2\n",
    "        \n",
    "    return result\n",
    "\n",
    "# def test(x):\n",
    "#     return np.cos(1/(x**2+1))\n",
    "\n",
    "# h = 0.001\n",
    "# fun_list = test(np.arange(0,np.pi,h))\n",
    "\n",
    "# print(simpson_int(fun_list,h))\n",
    "# print(rectangular_int(fun_list,h))\n",
    "# print(ladder_int(fun_list,h))"
   ]
  },
  {
   "cell_type": "code",
   "execution_count": 4,
   "id": "7c595fba-25ad-4d6b-ac4a-435e4c705cc7",
   "metadata": {},
   "outputs": [
    {
     "name": "stdout",
     "output_type": "stream",
     "text": [
      "R1.R2/0.01,1M\n",
      "0.17427574934615858\n",
      "0.17873187568588786\n",
      "0.17431245830347167\n",
      "解析 0.174277\n",
      "\n",
      "R1.R2/0.01,10M\n",
      "0.17652644935556114\n",
      "0.18098298854892883\n",
      "0.17656357116651272\n",
      "解析 0.174277\n",
      "Wall time: 1.96 ms\n"
     ]
    }
   ],
   "source": [
    "%%time\n",
    "def e(r):\n",
    "    global x\n",
    "    return r/(x**2+r**2)**(3/2)\n",
    "\n",
    "\n",
    "sigma = 0.5\n",
    "x = 0.01\n",
    "epsilon = 1\n",
    "h = 0.001\n",
    "\n",
    "fun_list = e(np.arange(0.01,1,h))\n",
    "print(\"R1.R2/0.01,1M\")\n",
    "print(sigma*x/(2*epsilon)*simpson_int(fun_list,h))\n",
    "print(sigma*x/(2*epsilon)*rectangular_int(fun_list,h))\n",
    "print(sigma*x/(2*epsilon)*ladder_int(fun_list,h))\n",
    "print(\"解析 0.174277\")\n",
    "\n",
    "fun_list = e(np.arange(0.01,10,h))\n",
    "print(\"\\nR1.R2/0.01,10M\")\n",
    "print(sigma*x/(2*epsilon)*simpson_int(fun_list,h))\n",
    "print(sigma*x/(2*epsilon)*rectangular_int(fun_list,h))\n",
    "print(sigma*x/(2*epsilon)*ladder_int(fun_list,h))\n",
    "print(\"解析 0.174277\")\n"
   ]
  },
  {
   "cell_type": "code",
   "execution_count": null,
   "id": "08e9e13a-79c5-4e27-b7d7-e1d461e9d544",
   "metadata": {},
   "outputs": [],
   "source": []
  }
 ],
 "metadata": {
  "kernelspec": {
   "display_name": "Python 3 (ipykernel)",
   "language": "python",
   "name": "python3"
  },
  "language_info": {
   "codemirror_mode": {
    "name": "ipython",
    "version": 3
   },
   "file_extension": ".py",
   "mimetype": "text/x-python",
   "name": "python",
   "nbconvert_exporter": "python",
   "pygments_lexer": "ipython3",
   "version": "3.9.7"
  }
 },
 "nbformat": 4,
 "nbformat_minor": 5
}
