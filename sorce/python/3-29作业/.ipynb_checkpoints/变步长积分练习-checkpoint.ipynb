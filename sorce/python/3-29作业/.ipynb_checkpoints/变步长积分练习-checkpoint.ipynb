{
 "cells": [
  {
   "cell_type": "code",
   "execution_count": 1,
   "id": "afcfedc2-f75a-4e8e-a766-e105f2e9c65e",
   "metadata": {},
   "outputs": [],
   "source": [
    "import numpy as np\n",
    "import sympy as sp\n",
    "from numba import njit,jit,prange"
   ]
  },
  {
   "cell_type": "code",
   "execution_count": 2,
   "id": "97660003-5bcc-4ff2-9194-daa0176b3094",
   "metadata": {},
   "outputs": [],
   "source": [
    "# 变步长龙贝格积分\n",
    "def step_change_romberg_int(int_fun, s,d, nn, ep):\n",
    "    error = 10.\n",
    "    h = (d-s)/nn\n",
    "    r2 = 0\n",
    "    r1 = 0\n",
    "    \n",
    "    # 1分梯形积分\n",
    "    sum_f1 = lambda x:(int_fun(x)+int_fun(x+h))*h/2\n",
    "    t1 = np.sum( sum_f1(np.arange(s, d-h, h)) )\n",
    "    # 2分梯形积分\n",
    "    sum_f2 = lambda x:int_fun(x+h/2)\n",
    "    t2 = t1/2 + h/2 *np.sum(sum_f2(np.arange(s, d-h, h)+h/2))\n",
    "    # 1分辛普森积分\n",
    "    s1 = t2 + 1/3*(t2-t1)\n",
    "    # 4分梯形积分\n",
    "    sum_f4 = lambda x:int_fun(x+h/4)\n",
    "    t4 = t2/2 + h/8 *np.sum(sum_f4(np.arange(s, d-h/4, h/4)+h/4))\n",
    "    # 2分辛普森积分\n",
    "    s2 = t4 + 1/3*(t4-t2)\n",
    "    # 1分柯斯特积分\n",
    "    c1 = s2 + 1/15*(s2-s1)\n",
    "    # 8分梯形积分\n",
    "    sum_f8 = lambda x:int_fun(x+h/8)\n",
    "    t8 = t4/2 + h/16 *np.sum(sum_f8(np.arange(s, d-h/8, h/8)+h/8))\n",
    "    # 4分辛普森积分\n",
    "    s4 = t8 + 1/3*(t8-t4)\n",
    "    # 2分柯斯特积分\n",
    "    c2 = s4 + 1/15*(s4-s2)\n",
    "    # 1分隆贝格积分\n",
    "    r1 = c2 + 1/63*(c2-c1)\n",
    "    \n",
    "    while error>=ep:\n",
    "        h/=2\n",
    "        t4, s2, c1, r1 = t8, s4, c2, r2\n",
    "        t8 = t4/2 + h/16 *np.sum(sum_f8(np.arange(s, d-h/8, h/8)+h/8))\n",
    "        # 4分辛普森积分\n",
    "        s4 = t8 + 1/3*(t8-t4)\n",
    "        # 2分柯斯特积分\n",
    "        c2 = s4 + 1/15*(s4-s2)\n",
    "        # 2分隆贝格积分\n",
    "        r2 = c2 + 1/63*(c2-c1)\n",
    "        # 计算误差\n",
    "        if(np.abs(r2)<=1):\n",
    "            # 计算绝对误差\n",
    "            error = np.abs(r2 - r1)\n",
    "        else:\n",
    "            # 计算相对误差\n",
    "            error = np.abs((r2-r1)/r2)\n",
    "    return r2\n",
    "\n",
    "# 变步长辛普森积分\n",
    "def step_change_simpson_int(int_fun, s,d, nn, ep):\n",
    "    error = 10.\n",
    "    h = (d-s)/nn\n",
    "\n",
    "    # 1分梯形积分\n",
    "    sum_f1 = lambda x:(int_fun(x)+int_fun(x+h))*h/2\n",
    "    t1 = np.sum( sum_f1(np.arange(s, d-h, h)) )\n",
    "    # 2分梯形积分\n",
    "    sum_f = lambda x:int_fun(x+h/2)\n",
    "    t2 = t1/2 + h/2 *np.sum(sum_f(np.arange(s, d-h, h)+h/2))\n",
    "    # 1分辛普森积分\n",
    "    s1 = t2 + 1/3*(t2-t1)\n",
    "    \n",
    "    while error>=ep:\n",
    "        h/=2\n",
    "        t4 = t2/2 + h/2 *np.sum(sum_f(np.arange(s, d-h, h)+h/2))\n",
    "        # 2分辛普森积分\n",
    "        s2 = t4 + 1/3*(t4-t2)\n",
    "        # 计算误差\n",
    "        if(np.abs(s2)<=1):\n",
    "            # 计算绝对误差\n",
    "            error = np.abs(s2 - s1)\n",
    "        else:\n",
    "            # 计算相对误差\n",
    "            error = np.abs((s2-s1)/s2)\n",
    "        s1 = s2\n",
    "        t2 = t4\n",
    "    return s2"
   ]
  },
  {
   "cell_type": "markdown",
   "id": "6bd89b95-dd4e-433d-bc5e-52d5cb31c691",
   "metadata": {},
   "source": [
    "应用变步长辛普森法计算积分\n",
    "$$\n",
    "G=\\int_{0}^{1} \\frac{\\arctan x}{x} d x\n",
    "$$\n",
    "此积分值称为Catalan常数，G的真值为0.915965，误差$10^{-5}$"
   ]
  },
  {
   "cell_type": "code",
   "execution_count": 13,
   "id": "981fd760-3341-4d16-80dc-3d22c6e854a3",
   "metadata": {},
   "outputs": [
    {
     "name": "stdout",
     "output_type": "stream",
     "text": [
      "0.9159547825499891\n"
     ]
    }
   ],
   "source": [
    "print(step_change_simpson_int(lambda x:np.arctan(x)/x, np.finfo(np.float64).eps, 1., 100, 1e-5))"
   ]
  },
  {
   "cell_type": "markdown",
   "id": "04faf375-f615-42c6-8fa0-e43c7f0101d4",
   "metadata": {},
   "source": [
    "应用龙贝格法计算积分\n",
    "$$\n",
    "I=\\int_{0.1}^{0.6} \\frac{0.02792(2-x)}{(1.449 x+1)^{0.8}(1-x)^{1.2} x} d x\n",
    "$$\n",
    "要求误差不超过$10^{-5}$"
   ]
  },
  {
   "cell_type": "code",
   "execution_count": 15,
   "id": "8103e632-4496-4326-b198-002f75140069",
   "metadata": {},
   "outputs": [
    {
     "name": "stdout",
     "output_type": "stream",
     "text": [
      "0.10040403662017915\n"
     ]
    }
   ],
   "source": [
    "print(step_change_romberg_int(lambda x:(0.02792*(2-x))/((1.449*x+1)**0.8*(1-x)**1.2*x), 0.1, 0.6, 100, 1e-5))"
   ]
  },
  {
   "cell_type": "code",
   "execution_count": null,
   "id": "61e65679-845a-4fc2-9947-7bdfc3f2ce36",
   "metadata": {},
   "outputs": [],
   "source": []
  }
 ],
 "metadata": {
  "kernelspec": {
   "display_name": "Python 3 (ipykernel)",
   "language": "python",
   "name": "python3"
  },
  "language_info": {
   "codemirror_mode": {
    "name": "ipython",
    "version": 3
   },
   "file_extension": ".py",
   "mimetype": "text/x-python",
   "name": "python",
   "nbconvert_exporter": "python",
   "pygments_lexer": "ipython3",
   "version": "3.9.7"
  }
 },
 "nbformat": 4,
 "nbformat_minor": 5
}
