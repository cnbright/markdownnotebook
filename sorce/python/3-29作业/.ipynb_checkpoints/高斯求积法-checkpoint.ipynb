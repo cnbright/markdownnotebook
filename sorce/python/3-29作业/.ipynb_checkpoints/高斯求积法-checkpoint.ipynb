{
 "cells": [
  {
   "cell_type": "code",
   "execution_count": 1,
   "id": "d6decd33-5888-403d-8f46-54698d6d9340",
   "metadata": {},
   "outputs": [],
   "source": [
    "import numpy as np\n",
    "import sympy as sp\n",
    "from numba import njit,jit,prange"
   ]
  },
  {
   "cell_type": "markdown",
   "id": "1c90e6c0-9f66-4b10-8da6-c28315866ec0",
   "metadata": {},
   "source": [
    "## 高斯公式\n",
    "\n",
    "$$\n",
    "\\int_{-1}^{1} f(x) d x \\approx \n",
    "0.652145\\cdot f(-0.339981)\n",
    "+0.652145\\cdot f(0.339981)\n",
    "+0.347855\\cdot f(-0.861136)\n",
    "+0.347855\\cdot f(0.861136)\n",
    "$$"
   ]
  },
  {
   "cell_type": "markdown",
   "id": "ae64c5d3-22e9-4ea5-b2d1-e9882907829f",
   "metadata": {},
   "source": [
    "用四点高斯公式计算\n",
    "$$\n",
    "I=\\int_{1.4}^{2.0} \\int_{1.0}^{1.5} \\ln (x+2 y) d x d y\n",
    "$$"
   ]
  },
  {
   "cell_type": "markdown",
   "id": "7e305776-c95b-4815-a0e9-91a459a728a2",
   "metadata": {},
   "source": [
    "```mathematica\n",
    "In[285]:= f1 = Fit[{{1., -1}, {1.5, 1}}, {1, x}, x];\n",
    "xr = Solve[f1 == tx, x];\n",
    "\n",
    "f2 = Fit[{{1.4, -1}, {2.0, 1}}, {1, y}, y];\n",
    "yr = Solve[f2 == ty, y];\n",
    "(0 /. D[xr, tx])*(0 /. D[yr, ty])*Simplify[Log[x + 2*y] /. xr /. yr]\n",
    "\n",
    "Out[289]= {{0.075 Log[4.65 + 0.25 tx + 0.6 ty]}}\n",
    "```"
   ]
  },
  {
   "cell_type": "code",
   "execution_count": 45,
   "id": "71cd1ae0-b54f-4439-8485-f9c58655fbb7",
   "metadata": {},
   "outputs": [],
   "source": [
    "def int_fun(tx, ty):\n",
    "    return np.log(4.65 + 0.25*tx + 0.6*ty)\n",
    "\n",
    "def gass_int_4p_2d():\n",
    "    t = [-0.339981, 0.339981, -0.861136, 0.861136]\n",
    "    a = [0.652145, 0.652145, 0.347855, 0.347855]\n",
    "    result = 0.\n",
    "    \n",
    "    for i in range(4):\n",
    "        for j in range(4):\n",
    "            result+=a[i]*a[j]*int_fun(t[i],t[j])\n",
    "    \n",
    "    return result"
   ]
  },
  {
   "cell_type": "code",
   "execution_count": 46,
   "id": "d69c2e9a-da51-407d-be38-0e9fb15c9ebc",
   "metadata": {},
   "outputs": [
    {
     "data": {
      "text/plain": [
       "0.4600764036586695"
      ]
     },
     "execution_count": 46,
     "metadata": {},
     "output_type": "execute_result"
    }
   ],
   "source": [
    "gass_int_4p_2d()*0.075"
   ]
  },
  {
   "cell_type": "code",
   "execution_count": 40,
   "id": "0fb0de7f-d6a3-49ed-afbf-01e03390def9",
   "metadata": {},
   "outputs": [
    {
     "data": {
      "text/plain": [
       "3.435100537352298e-10"
      ]
     },
     "execution_count": 40,
     "metadata": {},
     "output_type": "execute_result"
    }
   ],
   "source": [
    "np.abs(0.4600764033151594-0.4600764036586695)"
   ]
  },
  {
   "cell_type": "code",
   "execution_count": 44,
   "id": "e62768d9-d5ec-4e21-a2a6-f62bfb44ad51",
   "metadata": {},
   "outputs": [
    {
     "data": {
      "text/plain": [
       "0.42955452787922765"
      ]
     },
     "execution_count": 44,
     "metadata": {},
     "output_type": "execute_result"
    }
   ],
   "source": [
    "def int_fun(tx, ty):\n",
    "    return np.log(4.2 + 0.3*tx + 0.5*ty)\n",
    "\n",
    "gass_int_4p_2d()*0.075"
   ]
  },
  {
   "cell_type": "code",
   "execution_count": 47,
   "id": "98ff56ff-a192-4ff1-922a-d2cfc6423cfd",
   "metadata": {},
   "outputs": [
    {
     "data": {
      "text/plain": [
       "0.030521875435931767"
      ]
     },
     "execution_count": 47,
     "metadata": {},
     "output_type": "execute_result"
    }
   ],
   "source": [
    "np.abs(0.4600764033151594-0.42955452787922765)"
   ]
  },
  {
   "cell_type": "code",
   "execution_count": null,
   "id": "ca86b70d-bac5-404a-8413-8403f3813a5f",
   "metadata": {},
   "outputs": [],
   "source": []
  }
 ],
 "metadata": {
  "kernelspec": {
   "display_name": "Python 3",
   "language": "python",
   "name": "python3"
  },
  "language_info": {
   "codemirror_mode": {
    "name": "ipython",
    "version": 3
   },
   "file_extension": ".py",
   "mimetype": "text/x-python",
   "name": "python",
   "nbconvert_exporter": "python",
   "pygments_lexer": "ipython3",
   "version": "3.8.8"
  }
 },
 "nbformat": 4,
 "nbformat_minor": 5
}
