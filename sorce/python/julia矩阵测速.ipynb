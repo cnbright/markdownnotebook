{
 "cells": [
  {
   "cell_type": "code",
   "execution_count": 1,
   "id": "e57d29b8-0479-4b48-a082-51af2b54ca6e",
   "metadata": {},
   "outputs": [
    {
     "name": "stdout",
     "output_type": "stream",
     "text": [
      " 30.551444 seconds (2.93 M allocations: 2.376 GiB, 0.17% gc time, 3.33% compilation time)\n"
     ]
    }
   ],
   "source": [
    "@time begin\n",
    "    N = 10000;\n",
    "    m1 = rand(N,N);\n",
    "    m2 = rand(N,N);\n",
    "    m3 = m1*m2;\n",
    "end\n",
    "\n",
    "m1 = nothing\n",
    "m2 = nothing\n",
    "m3 = nothing \n",
    "GC.gc()"
   ]
  },
  {
   "cell_type": "code",
   "execution_count": null,
   "id": "b858c43d-f776-442e-a8c9-89d266480747",
   "metadata": {},
   "outputs": [],
   "source": []
  }
 ],
 "metadata": {
  "kernelspec": {
   "display_name": "Julia 1.7.2",
   "language": "julia",
   "name": "julia-1.7"
  },
  "language_info": {
   "file_extension": ".jl",
   "mimetype": "application/julia",
   "name": "julia",
   "version": "1.7.2"
  }
 },
 "nbformat": 4,
 "nbformat_minor": 5
}
