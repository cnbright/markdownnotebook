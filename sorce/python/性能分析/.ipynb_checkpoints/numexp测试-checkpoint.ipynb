{
 "cells": [
  {
   "cell_type": "code",
   "execution_count": 17,
   "id": "24eb71fb-534f-44e4-927d-087d8128fd27",
   "metadata": {},
   "outputs": [],
   "source": [
    "import numpy as np\n",
    "import sympy as sp\n",
    "from numba import njit,jit,prange\n",
    "import matplotlib.pyplot as plt\n",
    "import matplotlib.animation as animation"
   ]
  },
  {
   "cell_type": "code",
   "execution_count": 3,
   "id": "be9a5794-6f18-464a-95f4-f3b0d94c8522",
   "metadata": {},
   "outputs": [],
   "source": [
    "@njit\n",
    "def difference_iteration(u,alpha):\n",
    "    M = u.shape[1]\n",
    "    N = u.shape[0]\n",
    "    tn = u.shape[2]\n",
    "\n",
    "\n",
    "    for k in range(1,tn-1):\n",
    "        for i in range(1,N-1):\n",
    "            for j in range(1,M-1):\n",
    "                u[i,j,k+1] = (1-4*alpha)*u[i,j,k] + alpha*(u[i+1,j,k] + u[i-1,j,k] + u[i,j+1,k] + u[i,j-1,k])\n",
    "    \n",
    "    return u"
   ]
  },
  {
   "cell_type": "code",
   "execution_count": 89,
   "id": "7986e967-75cf-4312-9655-1f8832d8c716",
   "metadata": {},
   "outputs": [],
   "source": [
    "# x网格\n",
    "N = 20\n",
    "# y网格\n",
    "M = 40\n",
    "# 时间网格\n",
    "h = 0.05\n",
    "k=100\n",
    "\n",
    "alpha = 0.25\n",
    "tau = alpha*h**2\n",
    "\n",
    "u = np.zeros([N,M,100])\n",
    "\n",
    "# 边界条件\n",
    "u[:,:,0] = 0\n",
    "\n",
    "u[:,0,:] = 0\n",
    "u[:,-1,:] = 0\n",
    "\n",
    "u[-1,:,:] = 0\n",
    "u[-1,:,:] = 0\n",
    "\n",
    "u[0,:M//2,:] = 0\n",
    "u[1,:M//2,:] = 0\n",
    "\n",
    "u[0,:M//2,:] = 1\n",
    "\n",
    "\n",
    "u = difference_iteration(u,alpha)"
   ]
  },
  {
   "cell_type": "code",
   "execution_count": 11,
   "id": "024a1f21-8820-482d-b2da-aee382956a4e",
   "metadata": {},
   "outputs": [],
   "source": [
    "%matplotlib Qt\n",
    "def update(i):\n",
    "    line.set_ydata(np.cos(x + i / 50))\n",
    "    return line,\n",
    "\n",
    "\n",
    "fig,ax = plt.subplots()\n",
    "x = np.arange(0, 2*np.pi, 0.01)\n",
    "line, = ax.plot(x, np.cos(x),color=\"pink\")\n",
    "\n",
    "ani = animation.FuncAnimation(fig, update, interval=20, blit=True, save_count=50)\n",
    "ani.save(\"movie.gif\",writer='pillow')\n",
    "plt.show()"
   ]
  },
  {
   "cell_type": "code",
   "execution_count": 113,
   "id": "b04dda56-3e37-4e5c-bb24-46f4f9977e03",
   "metadata": {},
   "outputs": [
    {
     "data": {
      "image/png": "[encoded data removed]",
      "text/plain": [
       "<Figure size 792x576 with 2 Axes>"
      ]
     },
     "metadata": {
      "needs_background": "light"
     },
     "output_type": "display_data"
    }
   ],
   "source": [
    "def update(i):\n",
    "    line = ax.pcolormesh(u[:,:,i], cmap='Blues')\n",
    "    text.set_text(\"t={:.4f}s\".format(i*tau))\n",
    "    return line,\n",
    "\n",
    "fig,ax = plt.subplots(figsize=(11,8))\n",
    "\n",
    "line = ax.pcolormesh(u[:,:,0], cmap='Blues')\n",
    "text = ax.text(2, 18, \"t=0.0000s\", fontsize=20)\n",
    "fig.colorbar(line)\n",
    "plt.xticks(np.linspace(0,M,5,endpoint=True), np.linspace(0,1,5,endpoint=True), rotation=0, fontsize=15)\n",
    "plt.yticks(np.linspace(0,N,5,endpoint=True), np.linspace(0,1,5,endpoint=True), rotation=0, fontsize=15)\n",
    "\n",
    "ani = animation.FuncAnimation(fig, update, interval=10, blit=True, save_count=100)\n",
    "ani.save(\"Heat_transfer.gif\",writer='pillow')\n",
    "plt.show()"
   ]
  },
  {
   "cell_type": "code",
   "execution_count": 97,
   "id": "45ad65f1-c35f-409f-b02e-ed3c4cadbf1e",
   "metadata": {},
   "outputs": [
    {
     "data": {
      "image/png": "[encoded data removed]",
      "text/plain": [
       "<Figure size 792x576 with 2 Axes>"
      ]
     },
     "metadata": {
      "needs_background": "light"
     },
     "output_type": "display_data"
    }
   ],
   "source": [
    "%matplotlib inline\n",
    "# 绘制图表2：任期与出生年份关系 - 热图\n",
    "\n",
    "fig = plt.figure(figsize = (11,8))\n",
    "cax = plt.pcolor(u[:,:,50],cmap='Blues')\n",
    "text = plt.text(2, 18, \"t={}s\".format(2.5), fontsize=20)\n",
    "fig.colorbar(cax)\n",
    "# plt.xticks(np.linspace(0,40,5,endpoint=True))\n",
    "# plt.yticks(np.linspace(0,20,5,endpoint=True))\n",
    "plt.xticks(np.linspace(0,M,5,endpoint=True), np.linspace(0,1,5,endpoint=True), rotation=0, fontsize=15)  # 调用xticks进行设置\n",
    "plt.yticks(np.linspace(0,N,5,endpoint=True), np.linspace(0,1,5,endpoint=True), rotation=0, fontsize=15)  # 调用xticks进行设置\n",
    "\n",
    "plt.show()"
   ]
  },
  {
   "cell_type": "code",
   "execution_count": 100,
   "id": "2f8fb150-93aa-448d-80d1-a11455de5a6c",
   "metadata": {},
   "outputs": [
    {
     "data": {
      "text/plain": [
       "(20, 40, 100)"
      ]
     },
     "execution_count": 100,
     "metadata": {},
     "output_type": "execute_result"
    }
   ],
   "source": [
    "u.shape"
   ]
  },
  {
   "cell_type": "code",
   "execution_count": null,
   "id": "9e076713-8566-45f4-866f-ebf807f67555",
   "metadata": {},
   "outputs": [],
   "source": []
  }
 ],
 "metadata": {
  "kernelspec": {
   "display_name": "Python 3 (ipykernel)",
   "language": "python",
   "name": "python3"
  },
  "language_info": {
   "codemirror_mode": {
    "name": "ipython",
    "version": 3
   },
   "file_extension": ".py",
   "mimetype": "text/x-python",
   "name": "python",
   "nbconvert_exporter": "python",
   "pygments_lexer": "ipython3",
   "version": "3.9.7"
  }
 },
 "nbformat": 4,
 "nbformat_minor": 5
}
