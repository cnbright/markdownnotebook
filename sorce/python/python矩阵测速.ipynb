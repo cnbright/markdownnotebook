{
 "cells": [
  {
   "cell_type": "code",
   "execution_count": 1,
   "id": "9ccc9eec-a42d-4340-8dff-18bdf25a79a2",
   "metadata": {},
   "outputs": [],
   "source": [
    "import numpy as np\n",
    "from numba import njit"
   ]
  },
  {
   "cell_type": "code",
   "execution_count": 10,
   "id": "0699c254-3888-4585-8f50-27cd81dfbe82",
   "metadata": {},
   "outputs": [],
   "source": [
    "@njit\n",
    "def test():\n",
    "    N=10000\n",
    "    m1 = np.random.rand(N,N)\n",
    "    m2 = np.random.rand(N,N)\n",
    "    m3 = np.dot(m1,m2)"
   ]
  },
  {
   "cell_type": "code",
   "execution_count": 13,
   "id": "34f3a5f9-a93a-4abe-9c75-935ea2552a12",
   "metadata": {},
   "outputs": [
    {
     "name": "stdout",
     "output_type": "stream",
     "text": [
      "Wall time: 26.1 s\n"
     ]
    }
   ],
   "source": [
    "%time test()"
   ]
  },
  {
   "cell_type": "code",
   "execution_count": 15,
   "id": "330fd862-d0be-4d7e-b5a6-d5982dad6129",
   "metadata": {},
   "outputs": [],
   "source": [
    "m1 = _\n",
    "m2 = _\n",
    "m3 = _"
   ]
  },
  {
   "cell_type": "code",
   "execution_count": null,
   "id": "8ecfd048-9b76-49c4-92b9-e7ed6b6070b2",
   "metadata": {},
   "outputs": [],
   "source": []
  }
 ],
 "metadata": {
  "kernelspec": {
   "display_name": "Python 3",
   "language": "python",
   "name": "python3"
  },
  "language_info": {
   "codemirror_mode": {
    "name": "ipython",
    "version": 3
   },
   "file_extension": ".py",
   "mimetype": "text/x-python",
   "name": "python",
   "nbconvert_exporter": "python",
   "pygments_lexer": "ipython3",
   "version": "3.8.8"
  }
 },
 "nbformat": 4,
 "nbformat_minor": 5
}
