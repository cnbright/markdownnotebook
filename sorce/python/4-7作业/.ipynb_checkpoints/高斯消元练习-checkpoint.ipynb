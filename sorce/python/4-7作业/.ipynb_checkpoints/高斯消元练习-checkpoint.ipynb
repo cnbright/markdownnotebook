{
 "cells": [
  {
   "cell_type": "code",
   "execution_count": 1,
   "id": "a71d1b6c-8c27-4e13-ba62-62d87968f4d2",
   "metadata": {},
   "outputs": [],
   "source": [
    "import numpy as np\n",
    "import sympy as sp\n",
    "from numba import njit,jit,prange"
   ]
  },
  {
   "cell_type": "code",
   "execution_count": 4,
   "id": "72712d98-f06d-472a-883b-3aeec6aac150",
   "metadata": {},
   "outputs": [],
   "source": [
    "@njit(\"float64[:](float64[:,:])\")\n",
    "def gass_method(a):\n",
    "    # 获取行列\n",
    "    lines = a.shape[0]\n",
    "    rows = a.shape[1]\n",
    "    x = np.zeros(lines, dtype=\"float64\")\n",
    "\n",
    "    # 找最大主元，并交主元所在行到第一行\n",
    "    p = 0.\n",
    "    for i in range(lines):\n",
    "        if(np.abs(a[i,0]))>=(np.abs(p)):\n",
    "            p = a[i,0]\n",
    "            n4 = i\n",
    "        else:\n",
    "            continue\n",
    "    \n",
    "    temp = np.copy(a[n4,:])\n",
    "    a[n4,:] = a[0,:]\n",
    "    a[0,:] = temp\n",
    "    # 非主元化0\n",
    "    for i in range(1,lines):\n",
    "        a[i,:] = -a[0,:]*a[i,0]/a[0,0]+a[i,:]\n",
    "    \n",
    "    # 找最大主元，并交主元所在行到第j行\n",
    "    for j in range(1,lines-1):\n",
    "        p = 0.\n",
    "        for i in range(lines):\n",
    "            if(np.abs(a[i,j]))>=(np.abs(p)):\n",
    "                p = a[i,j]\n",
    "                n4 = i\n",
    "            else:\n",
    "                continue\n",
    "        temp = np.copy(a[n4,:])\n",
    "        a[n4,:] = a[j,:]\n",
    "        a[j,:] = temp\n",
    "        # 非主元化0\n",
    "        for i in range(j+1,lines):\n",
    "            a[i,j:] = -a[j,j:]*a[i,j]/a[j,j]+a[i,j:]\n",
    "\n",
    "    # 求解向量\n",
    "    for k in range(lines-1,-1,-1):\n",
    "        x[k] = -(a[k,-1]+np.sum(a[k,k+1:-1]*x[k+1:]))/a[k,k]\n",
    "    \n",
    "    return x"
   ]
  },
  {
   "cell_type": "code",
   "execution_count": 33,
   "id": "e9a3e9e4-b92f-4df7-b4e3-627f079934f9",
   "metadata": {},
   "outputs": [
    {
     "name": "stdout",
     "output_type": "stream",
     "text": [
      "2.13 µs ± 205 ns per loop (mean ± std. dev. of 7 runs, 1000000 loops each)\n"
     ]
    }
   ],
   "source": [
    "a = np.array([[-1.,2.,-2.],[3.,-1.,4.],[2.,-3.,-2.]], dtype=\"float64\")\n",
    "b = np.array([-1.,7.,0.], dtype=\"float64\")\n",
    "a = np.hstack((a,-b.reshape(len(b),1)))\n",
    "\n",
    "%timeit gass_method(a)"
   ]
  },
  {
   "cell_type": "markdown",
   "id": "fe5c0c0d-d7b8-4e68-b3e3-8b14ae55c6bb",
   "metadata": {},
   "source": [
    "\n",
    "$$\n",
    "\\left\\{\\begin{array}{l}\n",
    "m_{1} a_{1} + T = m_{1} g\n",
    "\\\\\n",
    "m_{2} a_{2} + T = m_{2} g \n",
    "\\\\\n",
    "a_{1}+a_{2}=2 a_{0}\\end{array}\\right.\n",
    "$$"
   ]
  },
  {
   "cell_type": "code",
   "execution_count": 28,
   "id": "26736ff8-dc20-4c99-94aa-605a83d291bd",
   "metadata": {},
   "outputs": [
    {
     "name": "stdout",
     "output_type": "stream",
     "text": [
      "a1= 3.92 error= 4.440892098500626e-16\n",
      "a2= 5.88 error= 0.0\n",
      "T= 11.760000000000002 error= 1.7763568394002505e-15\n"
     ]
    }
   ],
   "source": [
    "m1 = 2.\n",
    "m2 = 3.\n",
    "g = 9.8\n",
    "a0 = g/2\n",
    "\n",
    "a = np.array([[m1, 0., 1.],[0., m2, 1.],[1., 1., 0.]], dtype=\"float64\")\n",
    "b = np.array([ m1*g, m2*g, 2*a0], dtype=\"float64\")\n",
    "a = np.hstack((a,-b.reshape(len(b),1)))\n",
    "a1, a2, T = gass_method(a)\n",
    "a1s = m1/(m1+m2)*g\n",
    "a2s = m2/(m1+m2)*g\n",
    "Ts = (m1*m2)/(m1+m2)*g\n",
    "print(\"a1=\",a1,\"error=\",np.abs(a1s-a1))\n",
    "print(\"a2=\",a2,\"error=\",np.abs(a2s-a2))\n",
    "print(\"T=\",T,\"error=\",np.abs(Ts-T))"
   ]
  }
 ],
 "metadata": {
  "kernelspec": {
   "display_name": "Python 3",
   "language": "python",
   "name": "python3"
  },
  "language_info": {
   "codemirror_mode": {
    "name": "ipython",
    "version": 3
   },
   "file_extension": ".py",
   "mimetype": "text/x-python",
   "name": "python",
   "nbconvert_exporter": "python",
   "pygments_lexer": "ipython3",
   "version": "3.8.8"
  }
 },
 "nbformat": 4,
 "nbformat_minor": 5
}
