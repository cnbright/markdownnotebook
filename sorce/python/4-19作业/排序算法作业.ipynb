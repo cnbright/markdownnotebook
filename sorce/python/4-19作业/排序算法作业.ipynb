{
 "cells": [
  {
   "cell_type": "code",
   "execution_count": 1,
   "id": "8a7209ff-6301-4d78-b284-afbda7b143c2",
   "metadata": {},
   "outputs": [],
   "source": [
    "import numpy as np\n",
    "from numba import njit,float64,prange\n",
    "import numba\n",
    "numba.config.NUMBA_DEFAULT_NUM_THREADS=4"
   ]
  },
  {
   "cell_type": "code",
   "execution_count": 26,
   "id": "d388dfe4-c404-4e47-9faa-af5d82143b6c",
   "metadata": {},
   "outputs": [],
   "source": [
    "@njit\n",
    "def bubble_abs_sort(to_sort):\n",
    "    len_sort = len(to_sort)\n",
    "    for i in range(len_sort-1):\n",
    "        for j in range(len_sort-1-i):\n",
    "            if( to_sort[j] < to_sort[j+1] ):\n",
    "                to_sort[j], to_sort[j + 1] = to_sort[j + 1], to_sort[j]\n",
    "    return to_sort"
   ]
  },
  {
   "cell_type": "code",
   "execution_count": 27,
   "id": "f217e863-a8be-486f-a871-5f97fd9efb51",
   "metadata": {},
   "outputs": [
    {
     "data": {
      "text/plain": [
       "array([14430, 17735, 89050, 28723, 77437, 76632, 63603, 48156, 72685,\n",
       "       32499, 95081, 27655, 10383, 55219, 11937, 93706, 27215, 47829,\n",
       "       55890, 21138, 53994, 50675, 87860, 56754, 70567, 28783, 91571,\n",
       "       42024, 28488, 37731, 89942, 83056, 28656, 49472, 90985, 39820,\n",
       "       23230, 57913, 22966, 62999, 53479, 79553, 17868, 45307, 66243,\n",
       "       76767, 36347, 60852, 21778, 81054])"
      ]
     },
     "metadata": {},
     "output_type": "display_data"
    },
    {
     "data": {
      "text/plain": [
       "array([95081, 93706, 91571, 90985, 89942, 89050, 87860, 83056, 81054,\n",
       "       79553, 77437, 76767, 76632, 72685, 70567, 66243, 63603, 62999,\n",
       "       60852, 57913, 56754, 55890, 55219, 53994, 53479, 50675, 49472,\n",
       "       48156, 47829, 45307, 42024, 39820, 37731, 36347, 32499, 28783,\n",
       "       28723, 28656, 28488, 27655, 27215, 23230, 22966, 21778, 21138,\n",
       "       17868, 17735, 14430, 11937, 10383])"
      ]
     },
     "metadata": {},
     "output_type": "display_data"
    }
   ],
   "source": [
    "to_sort_array = np.random.randint(10000,100000,size = 50)\n",
    "display(to_sort_array)\n",
    "sorted_array = bubble_abs_sort(to_sort_array)\n",
    "display(sorted_array)"
   ]
  },
  {
   "cell_type": "code",
   "execution_count": null,
   "id": "e753e64e-1519-46ca-a731-6b337d738a5e",
   "metadata": {},
   "outputs": [],
   "source": []
  }
 ],
 "metadata": {
  "kernelspec": {
   "display_name": "Python 3 (ipykernel)",
   "language": "python",
   "name": "python3"
  },
  "language_info": {
   "codemirror_mode": {
    "name": "ipython",
    "version": 3
   },
   "file_extension": ".py",
   "mimetype": "text/x-python",
   "name": "python",
   "nbconvert_exporter": "python",
   "pygments_lexer": "ipython3",
   "version": "3.9.7"
  }
 },
 "nbformat": 4,
 "nbformat_minor": 5
}
