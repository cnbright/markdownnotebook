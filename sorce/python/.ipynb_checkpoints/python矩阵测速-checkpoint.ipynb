{
 "cells": [
  {
   "cell_type": "code",
   "execution_count": 1,
   "id": "9ccc9eec-a42d-4340-8dff-18bdf25a79a2",
   "metadata": {},
   "outputs": [],
   "source": [
    "import numpy as np\n",
    "from numba import njit"
   ]
  },
  {
   "cell_type": "code",
   "execution_count": 6,
   "id": "0699c254-3888-4585-8f50-27cd81dfbe82",
   "metadata": {},
   "outputs": [],
   "source": [
    "N=1000\n",
    "m1 = np.random.rand(N,N)\n",
    "m2 = np.random.rand(N,N)"
   ]
  },
  {
   "cell_type": "code",
   "execution_count": 7,
   "id": "34f3a5f9-a93a-4abe-9c75-935ea2552a12",
   "metadata": {},
   "outputs": [
    {
     "data": {
      "text/plain": [
       "array([[0.97278317, 0.77217173, 0.88163888, ..., 0.28453057, 0.77206688,\n",
       "        0.42946967],\n",
       "       [0.69785894, 0.42956486, 0.82409653, ..., 0.75132775, 0.21434934,\n",
       "        0.19816448],\n",
       "       [0.06894122, 0.83419156, 0.50871739, ..., 0.23944297, 0.51206821,\n",
       "        0.49410317],\n",
       "       ...,\n",
       "       [0.14857855, 0.57361382, 0.91520149, ..., 0.73170311, 0.62474004,\n",
       "        0.11415277],\n",
       "       [0.58834115, 0.60144298, 0.94703831, ..., 0.83871858, 0.79423742,\n",
       "        0.34460084],\n",
       "       [0.34625461, 0.07634819, 0.52430681, ..., 0.85513682, 0.44160557,\n",
       "        0.22246118]])"
      ]
     },
     "execution_count": 7,
     "metadata": {},
     "output_type": "execute_result"
    }
   ],
   "source": [
    "m1"
   ]
  },
  {
   "cell_type": "code",
   "execution_count": null,
   "id": "330fd862-d0be-4d7e-b5a6-d5982dad6129",
   "metadata": {},
   "outputs": [],
   "source": []
  }
 ],
 "metadata": {
  "kernelspec": {
   "display_name": "Python 3",
   "language": "python",
   "name": "python3"
  },
  "language_info": {
   "codemirror_mode": {
    "name": "ipython",
    "version": 3
   },
   "file_extension": ".py",
   "mimetype": "text/x-python",
   "name": "python",
   "nbconvert_exporter": "python",
   "pygments_lexer": "ipython3",
   "version": "3.8.8"
  }
 },
 "nbformat": 4,
 "nbformat_minor": 5
}
