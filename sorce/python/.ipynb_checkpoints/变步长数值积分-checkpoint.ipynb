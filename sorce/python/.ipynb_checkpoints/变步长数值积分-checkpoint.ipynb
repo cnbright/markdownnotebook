{
 "cells": [
  {
   "cell_type": "code",
   "execution_count": 1,
   "id": "d60b3fce-95d2-45ae-8cfd-71718cee8aec",
   "metadata": {},
   "outputs": [],
   "source": [
    "import numpy as np\n",
    "import sympy as sp\n",
    "from numba import njit,jit,prange"
   ]
  },
  {
   "cell_type": "markdown",
   "id": "d70534b9-471d-4393-b1c3-cddba9cb8b49",
   "metadata": {},
   "source": [
    "$$\n",
    "\\begin{array}{ll}\\left|S_{2 n}-S_{n}\\right|<\\varepsilon & \\left|S_{2 n}\\right| \\leq 1 \n",
    "\\\\\n",
    "\\left|\\frac{S_{2 n}-S_{n}}{S_{2 n}}\\right|<\\varepsilon & \\left|S_{2 n}\\right|>1\\end{array}\n",
    "$$"
   ]
  },
  {
   "cell_type": "markdown",
   "id": "f59a485c-f311-4713-aef2-e55fdd75519a",
   "metadata": {},
   "source": [
    "## 变步长梯形积分\n",
    "$$\n",
    "\\begin{array}{c}T_{1}=\\frac{h}{2}\\left[f\\left(x_{k}\\right)+f\\left(x_{k+1}\\right)\\right] \n",
    "\\\\\n",
    "T_{2}=\\frac{h}{4}\\left[f\\left(x_{k}\\right)+2 f\\left(x_{k+\\frac{1}{2}}\\right)+f\\left(x_{k+1}\\right)\\right]\\end{array}\n",
    "\\\\\n",
    "\\left\\{\\begin{array}{l}T_{2 n}=\\frac{1}{2} T_{n}+\\frac{h}{2} \\sum_{k=0}^{n-1} f\\left(x_{k+\\frac{1}{2}}\\right) \\\\ x_{k+\\frac{1}{2}}=a+\\left(k+\\frac{1}{2}\\right) h\\end{array}\\right.\n",
    "$$"
   ]
  },
  {
   "cell_type": "markdown",
   "id": "c45bf8f1-5064-4e46-a95e-c227da793904",
   "metadata": {},
   "source": [
    "## 变步长辛普森积分\n",
    "$$\n",
    "S_{n}=\\frac{4}{3} T_{2 n}-\\frac{1}{3} T_{n}=T_{2 n}+\\frac{1}{3}\\left(T_{2 n}-T_{n}\\right)\n",
    "$$"
   ]
  },
  {
   "cell_type": "code",
   "execution_count": 2,
   "id": "c91e1dc7-bb4c-4542-9560-a71f3991be7f",
   "metadata": {},
   "outputs": [],
   "source": [
    "# 变步长辛普森积分\n",
    "def step_change_simpson_int(int_fun, s,d, nn, ep):\n",
    "    error = 10.\n",
    "    h = (d-s)/nn\n",
    "\n",
    "    # 1分梯形积分\n",
    "    sum_f1 = lambda x:(int_fun(x)+int_fun(x+h))*h/2\n",
    "    t1 = np.sum( sum_f1(np.arange(s, d-h, h)) )\n",
    "    # 2分梯形积分\n",
    "    sum_f = lambda x:int_fun(x+h/2)\n",
    "    t2 = t1/2 + h/2 *np.sum(sum_f(np.arange(s, d-h, h)+h/2))\n",
    "    # 1分辛普森积分\n",
    "    s1 = t2 + 1/3*(t2-t1)\n",
    "    \n",
    "    while error>=ep:\n",
    "        h/=2\n",
    "        # 2分梯形积分\n",
    "        sum_f1 = lambda x:(int_fun(x)+int_fun(x+h))*h/2\n",
    "        t1 = np.sum( sum_f1(np.arange(s, d-h, h)) )\n",
    "        # 4分梯形积分\n",
    "        sum_f = lambda x:int_fun(x+h/2)\n",
    "        t2 = t1/2 + h/2 *np.sum(sum_f(np.arange(s, d-h, h)+h/2))\n",
    "        # 2分辛普森积分\n",
    "        s2 = t2 + 1/3*(t2-t1)\n",
    "        \n",
    "        # 计算误差\n",
    "        if(np.abs(s2)<=1):\n",
    "            # 计算绝对误差\n",
    "            error = np.abs(s2 - s1)\n",
    "        else:\n",
    "            # 计算相对误差\n",
    "            error = np.abs((s2-s1)/s2)\n",
    "        s1 = s2\n",
    "    \n",
    "    return s2\n",
    "\n",
    "# 变步长梯形积分法:被积函数，积分下限，积分上限，网格数\n",
    "def step_change_ladder_int(int_fun, s,d, nn, ep):\n",
    "    t1 = 0.\n",
    "    error = 10.\n",
    "    # h为步长\n",
    "    h = (d-s)/nn\n",
    "    # 1分积分\n",
    "    sum_f1 = lambda x:(int_fun(x)+int_fun(x+h))*h/2\n",
    "    t1 = np.sum( sum_f1(np.arange(s, d-h, h)) )\n",
    "\n",
    "    while error>=ep:\n",
    "        # 2分积分\n",
    "        sum_f2 = lambda x:int_fun(x+h/2)\n",
    "        t2 = t1/2 + h/2 *np.sum(sum_f2(np.arange(s, d-h, h)+h/2))\n",
    "        # 计算误差\n",
    "        if(np.abs(t2)<=1):\n",
    "            # 计算绝对误差\n",
    "            error = np.abs(t2 - t1)\n",
    "        else:\n",
    "            # 计算相对误差\n",
    "            error = np.abs((t2-t1)/t2)\n",
    "        h /= 2\n",
    "        t1 = t2\n",
    "    \n",
    "    return t2\n",
    "\n",
    "# step_change_ladder_int(lambda x:np.cos(1/(x**2+1)), 0., np.pi, 100, 1e-5)\n",
    "# step_change_simpson_int(lambda x:np.cos(1/(x**2+1)), 0., np.pi, 100, 1e-5)"
   ]
  },
  {
   "cell_type": "markdown",
   "id": "d7aad608-6461-454e-9753-96747b224ab2",
   "metadata": {},
   "source": [
    "$$\n",
    "s=4 a \\int_{0}^{\\pi / 2} \\sqrt{1-\\left(\\frac{c}{a}\\right)^{2} \\sin ^{2} \\theta} d \\theta\n",
    "$$"
   ]
  },
  {
   "cell_type": "code",
   "execution_count": 7,
   "id": "7cdeae08-6fa0-4081-b1bf-140aadef51d8",
   "metadata": {
    "tags": []
   },
   "outputs": [
    {
     "name": "stdout",
     "output_type": "stream",
     "text": [
      "符号解 24569.5020047926\n",
      "ep 1e-05\n",
      "la_int: 24569.262071949404 error 0.239932843196584\n",
      "simpson: 24569.342047097263 error 0.159957695337653\n",
      "ep 1e-07\n",
      "la_int: 24569.500598928837 error 0.00140586376437568\n",
      "simpson: 24569.50075512311 error 0.00124966949078953\n"
     ]
    }
   ],
   "source": [
    "def elliptic_perimeter(theta):\n",
    "    return 4*7882.5*np.sqrt(1.-(972.5/7782.5)**2)*np.sin(theta)**2\n",
    "\n",
    "\n",
    "# 符号解\n",
    "theta = sp.symbols(r'\\theta')\n",
    "sym_int = sp.integrate(4*7882.5*sp.sqrt(1.-(972.5/7782.5)**2)*sp.sin(theta)**2, [theta,0,np.pi/2])\n",
    "print(\"符号解\",sym_int)\n",
    "# 数值解\n",
    "la_int = step_change_ladder_int(elliptic_perimeter, 0., np.pi/2, 100, 1e-5)\n",
    "simp_int = step_change_simpson_int(elliptic_perimeter, 0., np.pi/2, 100, 1e-5)\n",
    "\n",
    "print(\"ep\",1e-5)\n",
    "print(\"la_int:\",la_int,\"error\",np.abs(sym_int-la_int))\n",
    "print(\"simpson:\",simp_int,\"error\",np.abs(sym_int-simp_int))\n",
    "\n",
    "la_int = step_change_ladder_int(elliptic_perimeter, 0., np.pi/2, 100, 1e-7)\n",
    "simp_int = step_change_simpson_int(elliptic_perimeter, 0., np.pi/2, 100, 1e-7)\n",
    "print(\"ep\",1e-7)\n",
    "print(\"la_int:\",la_int,\"error\",np.abs(sym_int-la_int))\n",
    "print(\"simpson:\",simp_int,\"error\",np.abs(sym_int-simp_int))"
   ]
  },
  {
   "cell_type": "code",
   "execution_count": null,
   "id": "f3c709a0-c79b-48aa-bd68-0bf01817020c",
   "metadata": {},
   "outputs": [],
   "source": []
  }
 ],
 "metadata": {
  "kernelspec": {
   "display_name": "Python 3 (ipykernel)",
   "language": "python",
   "name": "python3"
  },
  "language_info": {
   "codemirror_mode": {
    "name": "ipython",
    "version": 3
   },
   "file_extension": ".py",
   "mimetype": "text/x-python",
   "name": "python",
   "nbconvert_exporter": "python",
   "pygments_lexer": "ipython3",
   "version": "3.9.7"
  }
 },
 "nbformat": 4,
 "nbformat_minor": 5
}
