{
 "cells": [
  {
   "cell_type": "code",
   "execution_count": 11,
   "id": "98504ee0",
   "metadata": {},
   "outputs": [],
   "source": [
    "import numpy as np\n",
    "from numba import njit,float64,prange\n",
    "import numba\n",
    "numba.config.NUMBA_DEFAULT_NUM_THREADS=4"
   ]
  },
  {
   "cell_type": "markdown",
   "id": "60d5f4d9",
   "metadata": {},
   "source": [
    "$$\n",
    "B_{i, j}=\\sin \\frac{i-0.5}{N} \\pi \\times \\cos \\frac{k}{N} \\pi, C_{k, j}=e^{-\\frac{k-0.5}{N}\\times \\pi} \\times \\sqrt{\\frac{j(j-1)}{N^{2}}}\n",
    "\\\\\n",
    "A_{i, j}=\\sum_{k=1}^{N} B_{i, k} \\times C_{k, j},\\quad N=200\n",
    "$$"
   ]
  },
  {
   "cell_type": "code",
   "execution_count": 2,
   "id": "731d113f",
   "metadata": {},
   "outputs": [],
   "source": [
    "@njit\n",
    "def b(i,k):\n",
    "    return np.sin( np.pi*(i-0.5)/200 )*np.cos(np.pi*k/200)\n",
    "\n",
    "@njit\n",
    "def c(k,j):\n",
    "    return np.exp(-(k-0.5)/200*np.pi)*np.sqrt(j*(j-1)/200**2)\n",
    "\n",
    "@njit(\"float64[:](float64[:])\")\n",
    "def bubble_abs_sort(to_sort):\n",
    "    len_sort = len(to_sort)\n",
    "    for i in range(len_sort-1):\n",
    "        for j in range(len_sort-1-i):\n",
    "            if( np.abs(to_sort[j])>np.abs(to_sort[j+1]) ):\n",
    "                to_sort[j], to_sort[j + 1] = to_sort[j + 1], to_sort[j]\n",
    "    return to_sort\n",
    "\n",
    "@njit\n",
    "def abs_sum(to_sum):\n",
    "    len_sum = len(to_sum)\n",
    "    result = 0.\n",
    "    for i in to_sum:\n",
    "        result+=i\n",
    "    return result"
   ]
  },
  {
   "cell_type": "code",
   "execution_count": 259,
   "id": "d56c37fa",
   "metadata": {},
   "outputs": [],
   "source": [
    "@njit(nogil=True, parallel=True)\n",
    "def main():\n",
    "    result_m = np.zeros((200,200))\n",
    "    \n",
    "    for i in prange(200):\n",
    "        for j in prange(200):\n",
    "            to_sum = bubble_abs_sort(np.array([b(i+1,k)*c(k,j+1) for k in np.arange(1,201,1)]))\n",
    "            result_m[i,j] = abs_sum(to_sum)\n",
    "    \n",
    "    return result_m"
   ]
  },
  {
   "cell_type": "code",
   "execution_count": 263,
   "id": "e6f21a06",
   "metadata": {},
   "outputs": [
    {
     "name": "stdout",
     "output_type": "stream",
     "text": [
      "738 ms ± 15.2 ms per loop (mean ± std. dev. of 7 runs, 1 loop each)\n"
     ]
    },
    {
     "data": {
      "text/plain": [
       "array([[0.        , 0.00182956, 0.00316889, ..., 0.25550399, 0.25679769,\n",
       "        0.25809139],\n",
       "       [0.        , 0.00548823, 0.0095059 , ..., 0.76644893, 0.77032971,\n",
       "        0.77421048],\n",
       "       [0.        , 0.00914555, 0.01584056, ..., 1.27720475, 1.28367166,\n",
       "        1.29013856],\n",
       "       ...,\n",
       "       [0.        , 0.00914555, 0.01584056, ..., 1.27720475, 1.28367166,\n",
       "        1.29013856],\n",
       "       [0.        , 0.00548823, 0.0095059 , ..., 0.76644893, 0.77032971,\n",
       "        0.77421048],\n",
       "       [0.        , 0.00182956, 0.00316889, ..., 0.25550399, 0.25679769,\n",
       "        0.25809139]])"
      ]
     },
     "metadata": {},
     "output_type": "display_data"
    }
   ],
   "source": [
    "%timeit result_m = main()\n",
    "display(result_m)"
   ]
  },
  {
   "cell_type": "code",
   "execution_count": 264,
   "id": "b2dd25e6",
   "metadata": {},
   "outputs": [
    {
     "data": {
      "text/plain": [
       "0.0018295613429145507"
      ]
     },
     "execution_count": 264,
     "metadata": {},
     "output_type": "execute_result"
    }
   ],
   "source": [
    "result_m[0,1]"
   ]
  },
  {
   "cell_type": "markdown",
   "id": "5ca21c0f",
   "metadata": {},
   "source": [
    "本程序计算:0.0018295613429145507\n",
    "\n",
    "直接计算：0.0018295613429145496\n",
    "\n",
    "mma直接计算：0.00182956134291455\n",
    "\n",
    "mma排序计算:0.001829561342914551\n",
    "\n",
    "pytorch计算:0.0018295613429145"
   ]
  },
  {
   "cell_type": "markdown",
   "id": "bae53780",
   "metadata": {},
   "source": [
    "python默认的是17位小数的精度\n",
    "\n",
    "高精度使用decimal模块，配合getcontext\n",
    "\n",
    "利用float.as_integer_ratio()可以分数形式精确表示小数"
   ]
  },
  {
   "cell_type": "code",
   "execution_count": null,
   "id": "e512d0a2-a903-4c74-8af2-136ed375f9d6",
   "metadata": {},
   "outputs": [],
   "source": []
  }
 ],
 "metadata": {
  "kernelspec": {
   "display_name": "Python 3",
   "language": "python",
   "name": "python3"
  },
  "language_info": {
   "codemirror_mode": {
    "name": "ipython",
    "version": 3
   },
   "file_extension": ".py",
   "mimetype": "text/x-python",
   "name": "python",
   "nbconvert_exporter": "python",
   "pygments_lexer": "ipython3",
   "version": "3.8.8"
  }
 },
 "nbformat": 4,
 "nbformat_minor": 5
}
