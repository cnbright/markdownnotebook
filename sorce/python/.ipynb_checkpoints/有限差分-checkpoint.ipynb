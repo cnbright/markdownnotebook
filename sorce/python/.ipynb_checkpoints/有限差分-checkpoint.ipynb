{
 "cells": [
  {
   "cell_type": "code",
   "execution_count": 1,
   "id": "24eb71fb-534f-44e4-927d-087d8128fd27",
   "metadata": {},
   "outputs": [],
   "source": [
    "import numpy as np\n",
    "import sympy as sp\n",
    "from numba import njit,jit,prange\n",
    "import matplotlib.pyplot as plt\n",
    "import matplotlib.animation as animation"
   ]
  },
  {
   "cell_type": "markdown",
   "id": "5698cb6a-247c-4f7f-8f8c-5b1babfd0997",
   "metadata": {},
   "source": [
    "# jit串行"
   ]
  },
  {
   "cell_type": "code",
   "execution_count": 83,
   "id": "66136f3e-b56c-489a-9ad7-282b19afb629",
   "metadata": {},
   "outputs": [
    {
     "data": {
      "image/png": "[encoded data removed]",
      "text/plain": [
       "<Figure size 792x576 with 2 Axes>"
      ]
     },
     "metadata": {
      "needs_background": "light"
     },
     "output_type": "display_data"
    }
   ],
   "source": [
    "import numba\n",
    "numba.config.NUMBA_DEFAULT_NUM_THREADS=4\n",
    "\n",
    "@njit\n",
    "def difference_iteration(u,alpha):\n",
    "    M = u.shape[1]\n",
    "    N = u.shape[0]\n",
    "    tn = u.shape[2]\n",
    "\n",
    "\n",
    "    for k in range(1,tn-1):\n",
    "        for i in range(1,N-1):\n",
    "            for j in range(1,M-1):\n",
    "                u[i,j,k+1] = (1-4*alpha)*u[i,j,k] + alpha*(u[i+1,j,k] + u[i-1,j,k] + u[i,j+1,k] + u[i,j-1,k])\n",
    "    \n",
    "    return u\n",
    "\n",
    "\n",
    "# x网格\n",
    "N = 20\n",
    "# y网格\n",
    "M = 40\n",
    "# 时间网格\n",
    "h = 0.05\n",
    "k=100\n",
    "\n",
    "alpha = 0.25\n",
    "tau = alpha*h**2\n",
    "\n",
    "u = np.zeros([N,M,10000])\n",
    "\n",
    "# 边界条件\n",
    "u[:,:,0] = 0\n",
    "\n",
    "u[:,0,:] = 0\n",
    "u[:,-1,:] = 0\n",
    "\n",
    "u[-1,:,:] = 0\n",
    "u[-1,:,:] = 0\n",
    "\n",
    "u[0,:M//2,:] = 0\n",
    "u[1,:M//2,:] = 0\n",
    "\n",
    "u[0,:M//2,:] = 1\n",
    "\n",
    "\n",
    "u = difference_iteration(u,alpha)\n",
    "\n",
    "\n",
    "%matplotlib inline\n",
    "# 绘制图表2：任期与出生年份关系 - 热图\n",
    "\n",
    "fig = plt.figure(figsize = (11,8))\n",
    "cax = plt.pcolor(u[:,:,50],cmap='Blues')\n",
    "text = plt.text(2, 18, \"t={}s\".format(2.5), fontsize=20)\n",
    "fig.colorbar(cax)\n",
    "# plt.xticks(np.linspace(0,40,5,endpoint=True))\n",
    "# plt.yticks(np.linspace(0,20,5,endpoint=True))\n",
    "plt.xticks(np.linspace(0,M,5,endpoint=True), np.linspace(0,1,5,endpoint=True), rotation=0, fontsize=15)  # 调用xticks进行设置\n",
    "plt.yticks(np.linspace(0,N,5,endpoint=True), np.linspace(0,1,5,endpoint=True), rotation=0, fontsize=15)  # 调用xticks进行设置\n",
    "\n",
    "plt.show()"
   ]
  },
  {
   "cell_type": "code",
   "execution_count": 84,
   "id": "1ad1a841-3530-443f-81e8-e86f72d2cf71",
   "metadata": {},
   "outputs": [
    {
     "name": "stdout",
     "output_type": "stream",
     "text": [
      "36.6 ms ± 1.91 ms per loop (mean ± std. dev. of 7 runs, 10 loops each)\n"
     ]
    }
   ],
   "source": [
    "%timeit difference_iteration(u,alpha)"
   ]
  },
  {
   "cell_type": "markdown",
   "id": "e1fd1c40-a1fe-48d6-a6e0-620ec024cde4",
   "metadata": {},
   "source": [
    "# numpy+jit 并行"
   ]
  },
  {
   "cell_type": "code",
   "execution_count": 3,
   "id": "be9a5794-6f18-464a-95f4-f3b0d94c8522",
   "metadata": {},
   "outputs": [],
   "source": [
    "import numba\n",
    "numba.config.NUMBA_DEFAULT_NUM_THREADS=4\n",
    "\n",
    "@njit(nogil = True, parallel=True)\n",
    "def difference_iteration3(u,alpha):\n",
    "    M = u.shape[1]\n",
    "    N = u.shape[0]\n",
    "    tn = u.shape[2]\n",
    "\n",
    "\n",
    "    for k in prange(1,tn-1):\n",
    "        for i in prange(1,N-1):\n",
    "            for j in prange(1,M-1):\n",
    "                u[i,j,k+1] = (1-4*alpha)*u[i,j,k] + alpha*(u[i+1,j,k] + u[i-1,j,k] + u[i,j+1,k] + u[i,j-1,k])\n",
    "    \n",
    "    return u"
   ]
  },
  {
   "cell_type": "code",
   "execution_count": 85,
   "id": "eeb426e6-ecca-409f-9081-9868854160c5",
   "metadata": {},
   "outputs": [
    {
     "name": "stdout",
     "output_type": "stream",
     "text": [
      "19.5 ms ± 969 µs per loop (mean ± std. dev. of 7 runs, 100 loops each)\n"
     ]
    }
   ],
   "source": [
    "%timeit difference_iteration3(u3,alpha)"
   ]
  },
  {
   "cell_type": "code",
   "execution_count": 4,
   "id": "7986e967-75cf-4312-9655-1f8832d8c716",
   "metadata": {},
   "outputs": [
    {
     "data": {
      "image/png": "[encoded data removed]",
      "text/plain": [
       "<Figure size 792x576 with 2 Axes>"
      ]
     },
     "metadata": {
      "needs_background": "light"
     },
     "output_type": "display_data"
    }
   ],
   "source": [
    "# x网格\n",
    "N = 20\n",
    "# y网格\n",
    "M = 40\n",
    "# 时间网格\n",
    "h = 0.05\n",
    "k=100\n",
    "\n",
    "alpha = 0.25\n",
    "tau = alpha*h**2\n",
    "\n",
    "u3 = np.zeros([N,M,10000])\n",
    "\n",
    "# 边界条件\n",
    "u3[:,:,0] = 0\n",
    "\n",
    "u3[:,0,:] = 0\n",
    "u3[:,-1,:] = 0\n",
    "\n",
    "u3[-1,:,:] = 0\n",
    "u3[-2,:,:] = 0\n",
    "\n",
    "u3[0,:M//2,:] = 0\n",
    "u3[1,:M//2,:] = 0\n",
    "\n",
    "u3[0,:M//2,:] = 1\n",
    "\n",
    "\n",
    "u3 = difference_iteration3(u3,alpha)\n",
    "\n",
    "%matplotlib inline\n",
    "# 绘制图表2：任期与出生年份关系 - 热图\n",
    "\n",
    "fig = plt.figure(figsize = (11,8))\n",
    "cax = plt.pcolor(u3[:,:,50],cmap='Blues')\n",
    "text = plt.text(2, 18, \"t={}s\".format(2.5), fontsize=20)\n",
    "fig.colorbar(cax)\n",
    "# plt.xticks(np.linspace(0,40,5,endpoint=True))\n",
    "# plt.yticks(np.linspace(0,20,5,endpoint=True))\n",
    "plt.xticks(np.linspace(0,M,5,endpoint=True), np.linspace(0,1,5,endpoint=True), rotation=0, fontsize=15)  # 调用xticks进行设置\n",
    "plt.yticks(np.linspace(0,N,5,endpoint=True), np.linspace(0,1,5,endpoint=True), rotation=0, fontsize=15)  # 调用xticks进行设置\n",
    "\n",
    "plt.show()"
   ]
  },
  {
   "cell_type": "markdown",
   "id": "c8016e69-940b-4292-a728-8bc62862bb01",
   "metadata": {},
   "source": [
    "# numpy+numexp\n",
    "\n",
    "不能作用于数组元素"
   ]
  },
  {
   "cell_type": "code",
   "execution_count": 37,
   "id": "6c801ec4-e255-4773-815b-cad47ddada3e",
   "metadata": {},
   "outputs": [],
   "source": [
    "from numexpr import evaluate\n",
    "\n",
    "\n",
    "def difference_iteration2(u,alpha):\n",
    "    M = u.shape[1]\n",
    "    N = u.shape[0]\n",
    "    tn = u.shape[2]\n",
    "\n",
    "\n",
    "    for k in range(1,tn-1):\n",
    "        for i in range(1,N-1):\n",
    "            for j in range(1,M-1):\n",
    "                t1 = u[i,j,k]\n",
    "                t2 = u[i+1,j,k]\n",
    "                t3 = u[i-1,j,k]\n",
    "                t4 = u[i,j+1,k]\n",
    "                t5 = u[i,j-1,k]\n",
    "                u[i,j,k+1] = evaluate(r'(1-4*alpha)*t1 + alpha*(t2 + t3 + t4 + t5)')\n",
    "    return u"
   ]
  },
  {
   "cell_type": "code",
   "execution_count": 39,
   "id": "dbdb6424-985a-4421-8184-10ceac65d9bd",
   "metadata": {},
   "outputs": [
    {
     "name": "stdout",
     "output_type": "stream",
     "text": [
      "1.26 s ± 34.6 ms per loop (mean ± std. dev. of 7 runs, 1 loop each)\n"
     ]
    }
   ],
   "source": [
    "# x网格\n",
    "N = 20\n",
    "# y网格\n",
    "M = 40\n",
    "# 时间网格\n",
    "h = 0.05\n",
    "k=100\n",
    "\n",
    "alpha = 0.25\n",
    "tau = alpha*h**2\n",
    "\n",
    "u = np.zeros([N,M,100])\n",
    "\n",
    "# 边界条件\n",
    "u[:,:,0] = 0\n",
    "\n",
    "u[:,0,:] = 0\n",
    "u[:,-1,:] = 0\n",
    "\n",
    "u[-1,:,:] = 0\n",
    "u[-1,:,:] = 0\n",
    "\n",
    "u[0,:M//2,:] = 0\n",
    "u[1,:M//2,:] = 0\n",
    "\n",
    "u[0,:M//2,:] = 1\n",
    "\n",
    "\n",
    "%timeit difference_iteration2(u,alpha)"
   ]
  }
 ],
 "metadata": {
  "kernelspec": {
   "display_name": "Python 3 (ipykernel)",
   "language": "python",
   "name": "python3"
  },
  "language_info": {
   "codemirror_mode": {
    "name": "ipython",
    "version": 3
   },
   "file_extension": ".py",
   "mimetype": "text/x-python",
   "name": "python",
   "nbconvert_exporter": "python",
   "pygments_lexer": "ipython3",
   "version": "3.9.7"
  }
 },
 "nbformat": 4,
 "nbformat_minor": 5
}
