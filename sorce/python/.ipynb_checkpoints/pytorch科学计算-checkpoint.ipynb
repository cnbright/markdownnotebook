{
 "cells": [
  {
   "cell_type": "code",
   "execution_count": 2,
   "id": "f90d0147",
   "metadata": {},
   "outputs": [],
   "source": [
    "import torch"
   ]
  },
  {
   "cell_type": "code",
   "execution_count": 15,
   "id": "5ad6ed1f",
   "metadata": {},
   "outputs": [],
   "source": [
    "t1 = torch.tensor([1,2,3,4,5,6])"
   ]
  },
  {
   "cell_type": "markdown",
   "id": "d83b9d98",
   "metadata": {},
   "source": [
    "张量形状"
   ]
  },
  {
   "cell_type": "code",
   "execution_count": 19,
   "id": "58d7f0ec",
   "metadata": {},
   "outputs": [
    {
     "name": "stdout",
     "output_type": "stream",
     "text": [
      "\n",
      "size torch.Size([6]) \n",
      "shape torch.Size([6]) \n",
      "view tensor([[1, 2],\n",
      "        [3, 4],\n",
      "        [5, 6]]) \n",
      "unsqueeze tensor([[1],\n",
      "        [2],\n",
      "        [3],\n",
      "        [4],\n",
      "        [5],\n",
      "        [6]]) \n",
      "squeeze tensor([1, 2, 3, 4, 5, 6])\n"
     ]
    }
   ],
   "source": [
    "print(\n",
    "    \"\\nsize\",t1.size(),\n",
    "    \"\\nshape\",t1.shape,\n",
    "    \"\\nview\",t1.view(3,2),\n",
    "    \"\\nunsqueeze\",t1.unsqueeze(1),\n",
    "    \"\\nsqueeze\",t1.unsqueeze(1).squeeze(1)\n",
    ")"
   ]
  },
  {
   "cell_type": "markdown",
   "id": "74005e4a",
   "metadata": {},
   "source": [
    "获取数值"
   ]
  },
  {
   "cell_type": "code",
   "execution_count": 24,
   "id": "df3dafd0",
   "metadata": {},
   "outputs": [
    {
     "data": {
      "text/plain": [
       "1"
      ]
     },
     "execution_count": 24,
     "metadata": {},
     "output_type": "execute_result"
    }
   ],
   "source": [
    "t1[1].numel()"
   ]
  },
  {
   "cell_type": "markdown",
   "id": "ed887980",
   "metadata": {},
   "source": [
    "张量运算"
   ]
  },
  {
   "cell_type": "code",
   "execution_count": null,
   "id": "c17b925c",
   "metadata": {},
   "outputs": [],
   "source": [
    "https://zhuanlan.zhihu.com/p/156873503"
   ]
  },
  {
   "cell_type": "markdown",
   "id": "d65f3cb8",
   "metadata": {},
   "source": [
    "线代运算库在torch.linalg\n",
    "\n",
    "https://pytorch.org/docs/stable/linalg.html\n",
    "\n",
    "傅里叶变换在torch.FFT"
   ]
  },
  {
   "cell_type": "code",
   "execution_count": null,
   "id": "4497e490",
   "metadata": {},
   "outputs": [],
   "source": []
  }
 ],
 "metadata": {
  "kernelspec": {
   "display_name": "Python 3",
   "language": "python",
   "name": "python3"
  },
  "language_info": {
   "codemirror_mode": {
    "name": "ipython",
    "version": 3
   },
   "file_extension": ".py",
   "mimetype": "text/x-python",
   "name": "python",
   "nbconvert_exporter": "python",
   "pygments_lexer": "ipython3",
   "version": "3.8.8"
  }
 },
 "nbformat": 4,
 "nbformat_minor": 5
}
