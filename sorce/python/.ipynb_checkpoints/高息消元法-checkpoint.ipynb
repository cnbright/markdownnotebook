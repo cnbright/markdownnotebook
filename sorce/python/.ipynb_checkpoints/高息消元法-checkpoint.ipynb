{
 "cells": [
  {
   "cell_type": "markdown",
   "id": "31998f16-db19-49dd-95e5-ddf3f34cbb66",
   "metadata": {},
   "source": [
    "# 高斯列主元消去法"
   ]
  },
  {
   "cell_type": "code",
   "execution_count": 501,
   "id": "07d7fd09-0c62-4568-aa3d-9caaf6688417",
   "metadata": {},
   "outputs": [],
   "source": [
    "import numpy as np\n",
    "import sympy as sp\n",
    "from numba import njit,jit,prange,vectorize"
   ]
  },
  {
   "cell_type": "markdown",
   "id": "08116c80-14ce-40e9-bb4e-6291d5846055",
   "metadata": {},
   "source": [
    "# 纯py实现"
   ]
  },
  {
   "cell_type": "code",
   "execution_count": 437,
   "id": "350babf0-8d19-438c-b04b-6cb6141de245",
   "metadata": {
    "tags": []
   },
   "outputs": [
    {
     "name": "stdout",
     "output_type": "stream",
     "text": [
      "107 µs ± 4.68 µs per loop (mean ± std. dev. of 7 runs, 10000 loops each)\n"
     ]
    }
   ],
   "source": [
    "%%timeit\n",
    "def gass_method_inpy(a):\n",
    "    # 获取行列\n",
    "    lines = a.shape[0]\n",
    "    rows = a.shape[1]\n",
    "    x = np.zeros(n, dtype=\"float64\")\n",
    "\n",
    "    # 找最大主元，并交主元所在行到第一行\n",
    "    [[n4]]=np.argwhere(a[:,0]==np.max(a[:,0]))\n",
    "    a[[0,n4],:] = a[[n4,0],:]\n",
    "    # 非主元化0\n",
    "    for i in range(1,lines):\n",
    "        a[i,:] = -a[0,:]*a[i,0]/a[0,0]+a[i,:]\n",
    "    # 找最大主元，并交主元所在行到第一行\n",
    "    for j in range(1,lines-1):\n",
    "        [[n4]]=np.argwhere(a[j:,j]==np.max(a[j:,j]))+j\n",
    "        a[[j,n4],:] = a[[n4,j],:]\n",
    "        # 非主元化0\n",
    "        for i in range(j+1,n):\n",
    "            a[i,j:] = -a[j,j:]*a[i,j]/a[j,j]+a[i,j:]\n",
    "\n",
    "    # 求解向量\n",
    "    for k in range(n-1,-1,-1):\n",
    "        x[k] = -(a[k,-1]+np.sum(a[k,k+1:-1]*x[k+1:]))/a[k,k]\n",
    "    \n",
    "    return x\n",
    "    \n",
    "a = np.array([[-1.,2.,-2.],[3.,-1.,4.],[2.,-3.,-2.]], dtype=\"float64\")\n",
    "b = np.array([-1.,7.,0.], dtype=\"float64\")\n",
    "# 构造增广矩阵\n",
    "a = np.hstack((a,-b.reshape(3,1)))\n",
    "gass_method_inpy(a)"
   ]
  },
  {
   "cell_type": "markdown",
   "id": "ab5a20bb-b2cf-41c1-a8da-38ce991d019c",
   "metadata": {},
   "source": [
    "# njit实现1"
   ]
  },
  {
   "cell_type": "code",
   "execution_count": 454,
   "id": "07f84238-5cd9-48ed-b749-8c192f5c3f75",
   "metadata": {},
   "outputs": [],
   "source": [
    "@njit(\"float64[:](float64[:,:])\")\n",
    "def gass_method(a):\n",
    "    # 获取行列\n",
    "    lines = a.shape[0]\n",
    "    rows = a.shape[1]\n",
    "    x = np.zeros(lines, dtype=\"float64\")\n",
    "\n",
    "    # 找最大主元，并交主元所在行到第一行\n",
    "    [[n4]]=np.argwhere(a[:,0]==np.max(a[:,0]))\n",
    "    temp = np.copy(a[n4,:])\n",
    "    a[n4,:] = a[0,:]\n",
    "    a[0,:] = temp\n",
    "    # 非主元化0\n",
    "    for i in range(1,lines):\n",
    "        a[i,:] = -a[0,:]*a[i,0]/a[0,0]+a[i,:]\n",
    "    \n",
    "    # 找最大主元，并交主元所在行到第j行\n",
    "    for j in range(1,lines-1):\n",
    "        [[n4]]=np.argwhere(a[j:,j]==np.max(a[j:,j]))+j\n",
    "        temp = np.copy(a[n4,:])\n",
    "        a[n4,:] = a[j,:]\n",
    "        a[j,:] = temp\n",
    "        # 非主元化0\n",
    "        for i in range(j+1,lines):\n",
    "            a[i,j:] = -a[j,j:]*a[i,j]/a[j,j]+a[i,j:]\n",
    "\n",
    "    # 求解向量\n",
    "    for k in range(lines-1,-1,-1):\n",
    "        x[k] = -(a[k,-1]+np.sum(a[k,k+1:-1]*x[k+1:]))/a[k,k]\n",
    "    \n",
    "    return x"
   ]
  },
  {
   "cell_type": "markdown",
   "id": "6b103396-16de-4fe0-b503-c5130a3e3543",
   "metadata": {},
   "source": [
    "# njit实现2"
   ]
  },
  {
   "cell_type": "code",
   "execution_count": 519,
   "id": "3c3ce28b-0b6e-4728-9232-876c08821fab",
   "metadata": {},
   "outputs": [],
   "source": [
    "@njit(\"float64[:](float64[:,:])\")\n",
    "def gass_method(a):\n",
    "    # 获取行列\n",
    "    lines = a.shape[0]\n",
    "    rows = a.shape[1]\n",
    "    x = np.zeros(lines, dtype=\"float64\")\n",
    "\n",
    "    # 找最大主元，并交主元所在行到第一行\n",
    "    p = 0.\n",
    "    for i in range(lines):\n",
    "        if(np.abs(a[i,0]))>=(np.abs(p)):\n",
    "            p = a[i,0]\n",
    "            n4 = i\n",
    "        else:\n",
    "            continue\n",
    "    \n",
    "    temp = np.copy(a[n4,:])\n",
    "    a[n4,:] = a[0,:]\n",
    "    a[0,:] = temp\n",
    "    # 非主元化0\n",
    "    for i in range(1,lines):\n",
    "        a[i,:] = -a[0,:]*a[i,0]/a[0,0]+a[i,:]\n",
    "    \n",
    "    # 找最大主元，并交主元所在行到第j行\n",
    "    for j in range(1,lines-1):\n",
    "        p = 0.\n",
    "        for i in range(lines):\n",
    "            if(np.abs(a[i,j]))>=(np.abs(p)):\n",
    "                p = a[i,j]\n",
    "                n4 = i\n",
    "            else:\n",
    "                continue\n",
    "        temp = np.copy(a[n4,:])\n",
    "        a[n4,:] = a[j,:]\n",
    "        a[j,:] = temp\n",
    "        # 非主元化0\n",
    "        for i in range(j+1,lines):\n",
    "            a[i,j:] = -a[j,j:]*a[i,j]/a[j,j]+a[i,j:]\n",
    "\n",
    "    # 求解向量\n",
    "    for k in range(lines-1,-1,-1):\n",
    "        x[k] = -(a[k,-1]+np.sum(a[k,k+1:-1]*x[k+1:]))/a[k,k]\n",
    "    \n",
    "    return x"
   ]
  },
  {
   "cell_type": "code",
   "execution_count": 520,
   "id": "6819ef27-efe3-4f46-bddf-4bea6d5f9e64",
   "metadata": {
    "tags": []
   },
   "outputs": [
    {
     "name": "stdout",
     "output_type": "stream",
     "text": [
      "1.32 s ± 45.1 ms per loop (mean ± std. dev. of 7 runs, 1 loop each)\n"
     ]
    }
   ],
   "source": [
    "@njit\n",
    "def test():\n",
    "    a = np.array([[-1.,2.,-2.],[3.,-1.,4.],[2.,-3.,-2.]], dtype=\"float64\")\n",
    "    b = np.array([-1.,7.,0.], dtype=\"float64\")\n",
    "    a = np.hstack((a,-b.reshape(len(b),1)))\n",
    "    for i in range(1000000):\n",
    "        gass_method(a)\n",
    "\n",
    "%timeit test()"
   ]
  },
  {
   "cell_type": "code",
   "execution_count": 515,
   "id": "54ff0fd8-ccb7-4839-976c-d2b5b71b12bd",
   "metadata": {
    "tags": []
   },
   "outputs": [
    {
     "name": "stdout",
     "output_type": "stream",
     "text": [
      "1.9 s ± 24.3 ms per loop (mean ± std. dev. of 7 runs, 1 loop each)\n"
     ]
    }
   ],
   "source": [
    "%%timeit\n",
    "a = np.array([[-1.,2.,-2.],[3.,-1.,4.],[2.,-3.,-2.]], dtype=\"float64\")\n",
    "b = np.array([-1.,7.,0.], dtype=\"float64\")\n",
    "a = np.hstack((a,-b.reshape(len(b),1)))\n",
    "for i in range(1000000):\n",
    "    gass_method(a)"
   ]
  },
  {
   "cell_type": "code",
   "execution_count": 462,
   "id": "5279c6c3-7771-4682-b340-376863ac9a6d",
   "metadata": {},
   "outputs": [
    {
     "name": "stdout",
     "output_type": "stream",
     "text": [
      "1.98 µs ± 22 ns per loop (mean ± std. dev. of 7 runs, 1000000 loops each)\n"
     ]
    }
   ],
   "source": [
    "%timeit gass_method(a)"
   ]
  },
  {
   "cell_type": "code",
   "execution_count": null,
   "id": "16a7fc16-b8ec-4fab-8573-906d797a998a",
   "metadata": {},
   "outputs": [],
   "source": [
    "13.8 µs ± 728 ns per loop (mean ± std. dev. of 7 runs, 100000 loops each)\n",
    "1000000次，0.125"
   ]
  },
  {
   "cell_type": "code",
   "execution_count": 526,
   "id": "5b062810-94fe-4177-84c9-c2a955193da3",
   "metadata": {},
   "outputs": [
    {
     "name": "stdout",
     "output_type": "stream",
     "text": [
      "836 ms ± 24.8 ms per loop (mean ± std. dev. of 7 runs, 1 loop each)\n"
     ]
    }
   ],
   "source": [
    "@njit\n",
    "def test():\n",
    "    a = np.array([[-1.,2.,-2.],[3.,-1.,4.],[2.,-3.,-2.]])\n",
    "    b = np.array([-1.,7.,0.])\n",
    "    b = b.reshape(len(b),1)\n",
    "    for i in np.arange(0,1000000,1):\n",
    "        np.dot(np.linalg.inv(a),b)\n",
    "        \n",
    "%timeit test()"
   ]
  },
  {
   "cell_type": "code",
   "execution_count": 509,
   "id": "503122bc-0a0d-4245-8777-180d85fac66d",
   "metadata": {},
   "outputs": [
    {
     "data": {
      "text/plain": [
       "array([0, 1, 2, 3, 4, 5, 6, 7, 8, 9])"
      ]
     },
     "execution_count": 509,
     "metadata": {},
     "output_type": "execute_result"
    }
   ],
   "source": [
    "np.arange(0,10)"
   ]
  },
  {
   "cell_type": "code",
   "execution_count": 527,
   "id": "3cbe4abc-5c3e-45a0-85f8-fc5d144ec8f2",
   "metadata": {},
   "outputs": [],
   "source": [
    "import torch"
   ]
  },
  {
   "cell_type": "code",
   "execution_count": 522,
   "id": "8658e2a3-a841-4cb7-b82e-07bf86f6b3a6",
   "metadata": {},
   "outputs": [
    {
     "data": {
      "text/plain": [
       "6.76"
      ]
     },
     "execution_count": 522,
     "metadata": {},
     "output_type": "execute_result"
    }
   ],
   "source": [
    "a = np.array([[-1.,2.,-2.],[3.,-1.,4.],[2.,-3.,-2.]])\n",
    "b = np.array([-1.,7.,0.])\n",
    "b = b.reshape(len(b),1)\n",
    "\n",
    "tensor_a = torch.from_numpy(a).cuda()\n",
    "tensor_b = torch.from_numpy(b).cuda()\n",
    "\n",
    "for i in np.arange(0,1000000,1):\n",
    "    np.dot(np.linalg.inv(a),b)"
   ]
  },
  {
   "cell_type": "code",
   "execution_count": 547,
   "id": "d8fd8a4d-c3d1-4553-a90e-760fe05ff58f",
   "metadata": {},
   "outputs": [
    {
     "name": "stdout",
     "output_type": "stream",
     "text": [
      "Wall time: 333 ms\n"
     ]
    }
   ],
   "source": [
    "%%time\n",
    "a = np.array([[-1.,2.,-2.],[3.,-1.,4.],[2.,-3.,-2.]])\n",
    "b = np.array([-1.,7.,0.])\n",
    "b = b.reshape(len(b),1)\n",
    "\n",
    "tensor_a = torch.from_numpy(np.linalg.inv(a)).cuda()\n",
    "tensor_b = torch.from_numpy(b).cuda()\n",
    "for i in np.arange(0,10000,1):\n",
    "    torch.mm(tensor_a, tensor_b)"
   ]
  },
  {
   "cell_type": "code",
   "execution_count": 552,
   "id": "7b2e0c4b-4f2f-4d59-a370-7ed425e18cbf",
   "metadata": {},
   "outputs": [
    {
     "name": "stdout",
     "output_type": "stream",
     "text": [
      "Wall time: 263 ms\n"
     ]
    }
   ],
   "source": []
  },
  {
   "cell_type": "code",
   "execution_count": null,
   "id": "ebb310c7-382c-4bb7-be75-bb8c93d2ea60",
   "metadata": {},
   "outputs": [],
   "source": []
  }
 ],
 "metadata": {
  "kernelspec": {
   "display_name": "Python 3",
   "language": "python",
   "name": "python3"
  },
  "language_info": {
   "codemirror_mode": {
    "name": "ipython",
    "version": 3
   },
   "file_extension": ".py",
   "mimetype": "text/x-python",
   "name": "python",
   "nbconvert_exporter": "python",
   "pygments_lexer": "ipython3",
   "version": "3.8.8"
  }
 },
 "nbformat": 4,
 "nbformat_minor": 5
}
