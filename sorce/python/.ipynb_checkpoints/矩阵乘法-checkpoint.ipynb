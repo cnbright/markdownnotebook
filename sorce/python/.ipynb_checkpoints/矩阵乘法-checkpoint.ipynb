{
 "cells": [
  {
   "cell_type": "code",
   "execution_count": 1,
   "id": "a6e1b115",
   "metadata": {},
   "outputs": [],
   "source": [
    "import torch\n",
    "import numpy as np\n",
    "from numba import njit\n",
    "from numba import njit,float64,prange\n",
    "import numba\n",
    "numba.config.NUMBA_DEFAULT_NUM_THREADS=4"
   ]
  },
  {
   "cell_type": "code",
   "execution_count": 2,
   "id": "0ddebaa6",
   "metadata": {},
   "outputs": [],
   "source": [
    "@njit\n",
    "def matrix_dot(m1,m2):\n",
    "    m3 = np.zeros(m1.shape)\n",
    "    for i in range(m1.shape[0]):\n",
    "        for j in range(m1.shape[0]):\n",
    "            for k in range(m1.shape[0]):\n",
    "                m3[i, j] += m1[i,k]*m2[k,j]\n",
    "    return m3"
   ]
  },
  {
   "cell_type": "code",
   "execution_count": 3,
   "id": "ecc81e52",
   "metadata": {
    "tags": []
   },
   "outputs": [
    {
     "data": {
      "text/plain": [
       "array([[ 6.,  6.,  6.],\n",
       "       [12., 12., 12.],\n",
       "       [18., 18., 18.]])"
      ]
     },
     "execution_count": 3,
     "metadata": {},
     "output_type": "execute_result"
    }
   ],
   "source": [
    "m1 = np.array([[1,1,1],[2,2,2],[3,3,3]])\n",
    "m2 = m1\n",
    "matrix_dot(m1,m2)"
   ]
  },
  {
   "cell_type": "code",
   "execution_count": 4,
   "id": "5281bf7c",
   "metadata": {},
   "outputs": [
    {
     "name": "stdout",
     "output_type": "stream",
     "text": [
      "1.21 ms ± 91.2 µs per loop (mean ± std. dev. of 7 runs, 1000 loops each)\n"
     ]
    }
   ],
   "source": [
    "m1 = np.random.rand(100, 100)\n",
    "m2 = np.random.rand(100, 100)# 前行后列\n",
    "%timeit matrix_dot(m1,m2)"
   ]
  },
  {
   "cell_type": "code",
   "execution_count": 5,
   "id": "cd5a7c51",
   "metadata": {},
   "outputs": [],
   "source": [
    "@njit\n",
    "def b(i,k):\n",
    "    return np.sin( np.pi*(i-0.5)/200 )*np.cos(np.pi*k/200)\n",
    "\n",
    "@njit\n",
    "def c(k,j):\n",
    "    return np.exp(-(k-0.5)/200*np.pi)*np.sqrt(j*(j-1)/200**2)"
   ]
  },
  {
   "cell_type": "code",
   "execution_count": 6,
   "id": "28c6682d",
   "metadata": {},
   "outputs": [],
   "source": [
    "@njit(nogil=True, parallel=True)\n",
    "def main():\n",
    "    mb = np.zeros((200,200))\n",
    "    mc = np.zeros((200,200))\n",
    "    for i in prange(200):\n",
    "        for j in prange(200):\n",
    "            mb[i,j] = b(i+1,j+1)\n",
    "            mc[i,j] = c(i+1,j+1)\n",
    "\n",
    "    return matrix_dot(mb,mc)\n"
   ]
  },
  {
   "cell_type": "code",
   "execution_count": 15,
   "id": "fa29acdc",
   "metadata": {},
   "outputs": [
    {
     "name": "stdout",
     "output_type": "stream",
     "text": [
      "11.4 ms ± 1.37 ms per loop (mean ± std. dev. of 7 runs, 100 loops each)\n",
      "[[0.         0.00182956 0.00316889 ... 0.25550399 0.25679769 0.25809139]\n",
      " [0.         0.00548823 0.0095059  ... 0.76644893 0.77032971 0.77421048]\n",
      " [0.         0.00914555 0.01584056 ... 1.27720475 1.28367166 1.29013856]\n",
      " ...\n",
      " [0.         0.00914555 0.01584056 ... 1.27720475 1.28367166 1.29013856]\n",
      " [0.         0.00548823 0.0095059  ... 0.76644893 0.77032971 0.77421048]\n",
      " [0.         0.00182956 0.00316889 ... 0.25550399 0.25679769 0.25809139]]\n"
     ]
    }
   ],
   "source": [
    "%timeit mr = main()\n",
    "print(mr)"
   ]
  },
  {
   "cell_type": "code",
   "execution_count": 32,
   "id": "82219441",
   "metadata": {},
   "outputs": [
    {
     "data": {
      "text/plain": [
       "0.0018295613429145496"
      ]
     },
     "execution_count": 32,
     "metadata": {},
     "output_type": "execute_result"
    }
   ],
   "source": [
    "mr[0,1]"
   ]
  },
  {
   "cell_type": "code",
   "execution_count": 1,
   "id": "9e68f892",
   "metadata": {},
   "outputs": [],
   "source": [
    "import torch"
   ]
  },
  {
   "cell_type": "code",
   "execution_count": 13,
   "id": "f703a4b0",
   "metadata": {},
   "outputs": [],
   "source": [
    "@njit(nogil=True, parallel=True)\n",
    "def gen_bc():\n",
    "    mb = np.zeros((200,200))\n",
    "    mc = np.zeros((200,200))\n",
    "    for i in prange(200):\n",
    "        for j in prange(200):\n",
    "            mb[i,j] = b(i+1,j+1)\n",
    "            mc[i,j] = c(i+1,j+1)\n",
    "\n",
    "    return mb,mc"
   ]
  },
  {
   "cell_type": "code",
   "execution_count": 54,
   "id": "a57eba8e",
   "metadata": {},
   "outputs": [
    {
     "name": "stdout",
     "output_type": "stream",
     "text": [
      "678 µs ± 18.7 µs per loop (mean ± std. dev. of 7 runs, 100 loops each)\n"
     ]
    }
   ],
   "source": [
    "%%timeit\n",
    "mb, mc = gen_bc()\n",
    "tensor_b = torch.from_numpy(mb).cuda()\n",
    "tensor_c = torch.from_numpy(mc).cuda()\n",
    "\n",
    "tensor_d = torch.mm(tensor_b, tensor_c)"
   ]
  },
  {
   "cell_type": "code",
   "execution_count": 57,
   "id": "d583edc3",
   "metadata": {},
   "outputs": [
    {
     "data": {
      "text/plain": [
       "tensor(0.0018295613429145, device='cuda:0', dtype=torch.float64)"
      ]
     },
     "execution_count": 57,
     "metadata": {},
     "output_type": "execute_result"
    }
   ],
   "source": [
    "torch.set_printoptions(precision=16)\n",
    "tensor_d[0,1]"
   ]
  },
  {
   "cell_type": "code",
   "execution_count": 23,
   "id": "1175bf47",
   "metadata": {},
   "outputs": [
    {
     "name": "stdout",
     "output_type": "stream",
     "text": [
      "3.33 s ± 114 ms per loop (mean ± std. dev. of 7 runs, 1 loop each)\n"
     ]
    }
   ],
   "source": [
    "%%timeit\n",
    "tb = torch.zeros((200, 200)).cuda()\n",
    "tc = torch.zeros((200, 200)).cuda()\n",
    "\n",
    "for i in range(200):\n",
    "    for j in range(200):\n",
    "        tb[i,j] = b(i+1,j+1)\n",
    "        tb[i,j] = c(i+1,j+1)"
   ]
  },
  {
   "cell_type": "code",
   "execution_count": 26,
   "id": "2ef327c0",
   "metadata": {},
   "outputs": [
    {
     "name": "stdout",
     "output_type": "stream",
     "text": [
      "408 µs ± 17 µs per loop (mean ± std. dev. of 7 runs, 1 loop each)\n"
     ]
    }
   ],
   "source": [
    "%timeit gen_bc()"
   ]
  }
 ],
 "metadata": {
  "kernelspec": {
   "display_name": "Python 3",
   "language": "python",
   "name": "python3"
  },
  "language_info": {
   "codemirror_mode": {
    "name": "ipython",
    "version": 3
   },
   "file_extension": ".py",
   "mimetype": "text/x-python",
   "name": "python",
   "nbconvert_exporter": "python",
   "pygments_lexer": "ipython3",
   "version": "3.8.8"
  }
 },
 "nbformat": 4,
 "nbformat_minor": 5
}
