{
 "cells": [
  {
   "cell_type": "code",
   "execution_count": 63,
   "id": "d60b3fce-95d2-45ae-8cfd-71718cee8aec",
   "metadata": {},
   "outputs": [],
   "source": [
    "import numpy as np\n",
    "import sympy as sp\n",
    "from numba import njit,jit,prange\n",
    "import matplotlib.pyplot as plt"
   ]
  },
  {
   "cell_type": "code",
   "execution_count": 3,
   "id": "c91e1dc7-bb4c-4542-9560-a71f3991be7f",
   "metadata": {},
   "outputs": [],
   "source": [
    "def simpson_int(int_fun, s,d, nn):\n",
    "    result = 0.\n",
    "    h = (d-s)/nn\n",
    "    for i in np.arange(s, d-h, 2*h):\n",
    "        result += (int_fun(i)+4*int_fun(i+h)+int_fun(i+2*h))*h/3\n",
    "    return result\n",
    "\n",
    "def rectangular_int(int_fun, s,d, nn):\n",
    "    result = 0.\n",
    "    h = (d-s)/nn\n",
    "    for i in np.arange(s, d-h, h):\n",
    "        result += int_fun(i)*h\n",
    "    return result\n",
    "\n",
    "def ladder_int(int_fun, s,d, nn):\n",
    "    result = 0.\n",
    "    h = (d-s)/nn\n",
    "    for i in np.arange(s, d-h, h):\n",
    "        result += (int_fun(i)+int_fun(i+h))*h/2\n",
    "    return result\n",
    "\n",
    "# simpson_int(lambda x:np.cos(1/(x**2+1)), 0., np.pi, 100)\n",
    "# rectangular_int(lambda x:np.cos(1/(x**2+1)), 0., np.pi, 100)\n",
    "# ladder_int(lambda x:np.cos(1/(x**2+1)), 0., np.pi, 100)"
   ]
  },
  {
   "cell_type": "markdown",
   "id": "99f3a4e1-8e48-4e6f-ac11-f9ca7338c23e",
   "metadata": {},
   "source": [
    "# 随堂联系\n",
    "\n",
    "对圆盘轴向上一点\n",
    "$$\n",
    "E=\\frac{\\sigma x}{2 \\varepsilon_{0}} \\int_{R_{1}}^{R_{2}} \\frac{r d r}{\\left(x^{2}+r^{2}\\right)^{3 / 2}}\n",
    "$$\n",
    "其中，$\\sigma=0.5, x=0.01$\n",
    "采用解析法和数值法，计算\n",
    "1. $R_{1}, R_{2} / 0.01, \\mathrm{~lm}$\n",
    "2. $R_{1}, R_{2} / 0.01,10 \\mathrm{~m}$"
   ]
  },
  {
   "cell_type": "code",
   "execution_count": 29,
   "id": "7c595fba-25ad-4d6b-ac4a-435e4c705cc7",
   "metadata": {},
   "outputs": [
    {
     "name": "stdout",
     "output_type": "stream",
     "text": [
      "符号解 0.174276820287263\n",
      "R1.R2/0.01,1M\n",
      "rectangular_int: 0.1786844792431247 error 0.00440765895586201\n",
      "ladder_int: 0.17431049580208755 error 3.36755148248602e-5\n",
      "simpson: 0.17427659188888409 error 2.28398378598893e-7\n",
      "\n",
      "符号解 0.176526695421637\n",
      "R1.R2/0.01,10M\n",
      "rectangular_int: 0.22482758919334603 error 0.0483008937717092\n",
      "ladder_int: 0.18067773466769713 error 0.00415103924606033\n",
      "simpson: 0.17585517338625575 error 0.000671522035381039\n",
      "Wall time: 518 ms\n"
     ]
    }
   ],
   "source": [
    "%%time\n",
    "sigma = 0.5\n",
    "x = 0.01\n",
    "epsilon = 1\n",
    "N = 1000\n",
    "\n",
    "def e(r):\n",
    "    global x\n",
    "    return r/(x**2+r**2)**(3/2)\n",
    "\n",
    "# 符号解\n",
    "r = sp.symbols(r'r')\n",
    "sym_int1 = sp.integrate(sigma*x/(2*epsilon) *r/(x**2+r**2)**(sp.Rational(3/2)), [r, 0.01,1])\n",
    "sym_int10 = sp.integrate(sigma*x/(2*epsilon) *r/(x**2+r**2)**(sp.Rational(3/2)), [r, 0.01,10])\n",
    "#sympy不能直接处理分数幂次，需要进行有理化处理\n",
    "\n",
    "# 数值解\n",
    "simpson_int1 = sigma*x/(2*epsilon) *simpson_int(e, 0.01, 1, N)\n",
    "rectangular_int1 = sigma*x/(2*epsilon) *rectangular_int(e, 0.01, 1, N)\n",
    "ladder_int1 = sigma*x/(2*epsilon) *ladder_int(e, 0.01, 1, N)\n",
    "\n",
    "simpson_int10 = sigma*x/(2*epsilon) *simpson_int(e, 0.01, 10, N)\n",
    "rectangular_int10 = sigma*x/(2*epsilon) *rectangular_int(e, 0.01, 10, N)\n",
    "ladder_int10 = sigma*x/(2*epsilon) *ladder_int(e, 0.01, 10, N)\n",
    "\n",
    "print(\"符号解\",sym_int1)\n",
    "\n",
    "print(\"R1.R2/0.01,1M\")\n",
    "print(\"rectangular_int:\",rectangular_int1,\"error\",np.abs(sym_int1-rectangular_int1))\n",
    "print(\"ladder_int:\",ladder_int1,\"error\",np.abs(sym_int1-ladder_int1))\n",
    "print(\"simpson:\",simpson_int1,\"error\",np.abs(sym_int1-simpson_int1))\n",
    "\n",
    "print(\"\\n符号解\", sym_int10)\n",
    "print(\"R1.R2/0.01,10M\")\n",
    "print(\"rectangular_int:\",rectangular_int10,\"error\",np.abs(sym_int10-rectangular_int10))\n",
    "print(\"ladder_int:\",ladder_int10,\"error\",np.abs(sym_int10-ladder_int10))\n",
    "print(\"simpson:\",simpson_int10,\"error\",np.abs(sym_int10-simpson_int10))"
   ]
  },
  {
   "cell_type": "markdown",
   "id": "ee4563e1-c96a-4bd4-8194-8424dde69314",
   "metadata": {},
   "source": [
    "# 随堂联系\n",
    "用矩形法、梯形法、抛物线法编程计算定积分（N=1000）\n",
    "$$\n",
    "\\int_{0}^{\\pi} \\cos \\left(\\frac{1}{1+x^{2}}\\right) d x\n",
    "$$"
   ]
  },
  {
   "cell_type": "code",
   "execution_count": 37,
   "id": "68500c7e-b5c0-488c-9e62-50b535d9ef2a",
   "metadata": {},
   "outputs": [
    {
     "name": "stdout",
     "output_type": "stream",
     "text": [
      "rectangular_int: 2.7697585718928934\n",
      "ladder_int: 2.770473996303976\n",
      "simpson: 2.7736022750262195\n",
      "Wall time: 10.9 ms\n"
     ]
    }
   ],
   "source": [
    "%%time\n",
    "\n",
    "N = 1000\n",
    "\n",
    "def test1(x):\n",
    "    return np.cos(1/(1+x**2))\n",
    "\n",
    "# 数值解\n",
    "simpson_int1 = simpson_int(test1, 0., np.pi, N)\n",
    "rectangular_int1 = rectangular_int(test1, 0., np.pi, N)\n",
    "ladder_int1 = ladder_int(test1, 0., np.pi, N)\n",
    "\n",
    "print(\"rectangular_int:\",rectangular_int1)\n",
    "print(\"ladder_int:\",ladder_int1)\n",
    "print(\"simpson:\",simpson_int1)"
   ]
  },
  {
   "cell_type": "markdown",
   "id": "cdb1919d-aebb-4924-bc92-b03c204713b7",
   "metadata": {},
   "source": [
    "# 圆盘轴线上电势分布\n",
    "\n",
    "$$\n",
    "d u=\\frac{1}{4 \\pi \\varepsilon_{0}} \\cdot \\frac{d Q}{\\left(x^{2}+r^{2}\\right)^{1 / 2}}=\\frac{1}{4 \\pi \\varepsilon_{0}} \\cdot \\frac{\\sigma 2 \\pi r d r}{\\left(x^{2}+r^{2}\\right)^{1 / 2}}\n",
    "\\\\\n",
    "u=\\int_{0}^{R} f(r) d r \\quad f(r)=\\frac{\\sigma}{2 \\varepsilon_{0}} \\cdot \\frac{r}{\\left(x^{2}+r^{2}\\right)^{1 / 2}}\n",
    "$$\n",
    "有解析解\n",
    "$$\n",
    "\\begin{array}{l}\n",
    "\\int_{0}^{R} \\frac{r d r}{\\left(x^{2}+r^{2}\\right)^{1 / 2}}=\\frac{1}{2} \\int_{0}^{R} \\frac{d\\left(r^{2}\\right)}{\\left(x^{2}+r^{2}\\right)^{1 / 2}} \n",
    "=\\left.\\left[\\left(x^{2}+r^{2}\\right)\\right]^{1 / 2}\\right|_{0} ^{R}=\\left(x^{2}+R^{2}\\right)^{1 / 2}-|x| \n",
    "\\\\\n",
    "\\therefore \\quad u=\\frac{\\sigma}{2 \\varepsilon_{0}}\\left[\\left(x^{2}+R^{2}\\right)^{1 / 2}-|x|\\right]\\end{array}\n",
    "$$\n",
    "\n",
    "1. $x=0.06,\\quad R=0.09,\\quad \\sigma = 0.5$，用三种数值方法计算电势\n",
    "2. $-0.08<x<0.08$，绘制$u$随$x$变化的曲线"
   ]
  },
  {
   "cell_type": "code",
   "execution_count": 69,
   "id": "419b85f2-c6b6-479e-8198-fb81a333ff86",
   "metadata": {},
   "outputs": [
    {
     "name": "stdout",
     "output_type": "stream",
     "text": [
      "符号解 0.0006000000000000001\n",
      "rectangular_int: 0.009773535313718247 error 0.009173535313718248\n",
      "ladder_int: 0.009779094615725932 error 0.009179094615725933\n",
      "simpson: 0.009793093674254896 error 0.009193093674254896\n",
      "Wall time: 5.98 ms\n"
     ]
    }
   ],
   "source": [
    "%%time\n",
    "sigma = 0.5\n",
    "x = 0.06\n",
    "epsilon = 1\n",
    "R = 0.08\n",
    "N = 1000\n",
    "\n",
    "def u(r):\n",
    "    global x\n",
    "    return r/(x**2+r**2)**(1/2)\n",
    "\n",
    "sym_int1 = sigma*x/(2*epsilon)*((x**2+R**2)**(1/2)-abs(x))\n",
    "\n",
    "# 数值解\n",
    "simpson_int1 = sigma/(2*epsilon) *simpson_int(u, 0.01, R, N)\n",
    "rectangular_int1 = sigma/(2*epsilon) *rectangular_int(u, 0.01, R, N)\n",
    "ladder_int1 = sigma/(2*epsilon) *ladder_int(u, 0.01, R, N)\n",
    "\n",
    "\n",
    "print(\"符号解\",sym_int1)\n",
    "print(\"rectangular_int:\",rectangular_int1,\"error\",np.abs(sym_int1-rectangular_int1))\n",
    "print(\"ladder_int:\",ladder_int1,\"error\",np.abs(sym_int1-ladder_int1))\n",
    "print(\"simpson:\",simpson_int1,\"error\",np.abs(sym_int1-simpson_int1))"
   ]
  },
  {
   "cell_type": "code",
   "execution_count": 77,
   "id": "4f5ec14d-5650-429d-985d-f6fdbbcfe903",
   "metadata": {},
   "outputs": [
    {
     "data": {
      "image/png": "[encoded data removed]",
      "text/plain": [
       "<Figure size 576x360 with 1 Axes>"
      ]
     },
     "metadata": {
      "needs_background": "light"
     },
     "output_type": "display_data"
    }
   ],
   "source": [
    "plot_x = np.arange(-0.08,0.08,10e-4)\n",
    "R = 0.08\n",
    "plot_ux = lambda x:sigma/(2*epsilon)*((x**2+R**2)**(1/2)-abs(x))\n",
    "plot_y1 = plot_ux(np.arange(-0.08,0.08,10e-4))\n",
    "R = 0.16\n",
    "plot_ux = lambda x:sigma/(2*epsilon)*((x**2+R**2)**(1/2)-abs(x))\n",
    "plot_y2 = plot_ux(np.arange(-0.08,0.08,10e-4))\n",
    "\n",
    "plt.figure(figsize=(8,5))\n",
    "plt.plot(plot_x, plot_y1)\n",
    "plt.plot(plot_x, plot_y2)\n",
    "plt.legend([r\"R=0.08\",r\"R = 0.16\"])\n",
    "plt.ylabel(r'$u$',fontsize=40)\n",
    "plt.xlabel(r'$x$',fontsize=40)\n",
    "plt.show()"
   ]
  },
  {
   "cell_type": "code",
   "execution_count": null,
   "id": "fcde64fb-feb5-4512-9a75-30f699797342",
   "metadata": {},
   "outputs": [],
   "source": []
  }
 ],
 "metadata": {
  "kernelspec": {
   "display_name": "Python 3",
   "language": "python",
   "name": "python3"
  },
  "language_info": {
   "codemirror_mode": {
    "name": "ipython",
    "version": 3
   },
   "file_extension": ".py",
   "mimetype": "text/x-python",
   "name": "python",
   "nbconvert_exporter": "python",
   "pygments_lexer": "ipython3",
   "version": "3.8.8"
  }
 },
 "nbformat": 4,
 "nbformat_minor": 5
}
