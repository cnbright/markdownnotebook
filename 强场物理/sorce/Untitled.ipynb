{
 "cells": [
  {
   "cell_type": "code",
   "execution_count": 1,
   "id": "34218393",
   "metadata": {},
   "outputs": [],
   "source": [
    "import numpy as np\n",
    "import matplotlib.pyplot as plt\n",
    "from scipy import sparse"
   ]
  },
  {
   "cell_type": "markdown",
   "id": "2abfd69f",
   "metadata": {},
   "source": [
    "一阶微分算符"
   ]
  },
  {
   "cell_type": "code",
   "execution_count": 31,
   "id": "a15da6cd",
   "metadata": {},
   "outputs": [
    {
     "data": {
      "text/plain": [
       "array([[ 0. ,  0.5,  0. ,  0. ,  0. ,  0. ,  0. ,  0. ,  0. ,  0. ],\n",
       "       [-0.5,  0. ,  0.5,  0. ,  0. ,  0. ,  0. ,  0. ,  0. ,  0. ],\n",
       "       [ 0. , -0.5,  0. ,  0.5,  0. ,  0. ,  0. ,  0. ,  0. ,  0. ],\n",
       "       [ 0. ,  0. , -0.5,  0. ,  0.5,  0. ,  0. ,  0. ,  0. ,  0. ],\n",
       "       [ 0. ,  0. ,  0. , -0.5,  0. ,  0.5,  0. ,  0. ,  0. ,  0. ],\n",
       "       [ 0. ,  0. ,  0. ,  0. , -0.5,  0. ,  0.5,  0. ,  0. ,  0. ],\n",
       "       [ 0. ,  0. ,  0. ,  0. ,  0. , -0.5,  0. ,  0.5,  0. ,  0. ],\n",
       "       [ 0. ,  0. ,  0. ,  0. ,  0. ,  0. , -0.5,  0. ,  0.5,  0. ],\n",
       "       [ 0. ,  0. ,  0. ,  0. ,  0. ,  0. ,  0. , -0.5,  0. ,  0.5],\n",
       "       [ 0. ,  0. ,  0. ,  0. ,  0. ,  0. ,  0. ,  0. , -0.5,  0. ]],\n",
       "      dtype=float32)"
      ]
     },
     "execution_count": 31,
     "metadata": {},
     "output_type": "execute_result"
    }
   ],
   "source": [
    "N=10\n",
    "dx=1\n",
    "(np.diag(np.ones((N-1), np.float32), 1)\n",
    " - np.diag(np.ones((N-1), np.float32), -1))/(2*dx)"
   ]
  },
  {
   "cell_type": "markdown",
   "id": "d09a2d32",
   "metadata": {},
   "source": [
    "二阶微分算符"
   ]
  },
  {
   "cell_type": "code",
   "execution_count": 6,
   "id": "f91f5ab0",
   "metadata": {},
   "outputs": [
    {
     "data": {
      "text/plain": [
       "array([[-2.,  1.,  0.,  0.,  0.,  0.,  0.,  0.,  0.,  0.],\n",
       "       [ 1., -2.,  1.,  0.,  0.,  0.,  0.,  0.,  0.,  0.],\n",
       "       [ 0.,  1., -2.,  1.,  0.,  0.,  0.,  0.,  0.,  0.],\n",
       "       [ 0.,  0.,  1., -2.,  1.,  0.,  0.,  0.,  0.,  0.],\n",
       "       [ 0.,  0.,  0.,  1., -2.,  1.,  0.,  0.,  0.,  0.],\n",
       "       [ 0.,  0.,  0.,  0.,  1., -2.,  1.,  0.,  0.,  0.],\n",
       "       [ 0.,  0.,  0.,  0.,  0.,  1., -2.,  1.,  0.,  0.],\n",
       "       [ 0.,  0.,  0.,  0.,  0.,  0.,  1., -2.,  1.,  0.],\n",
       "       [ 0.,  0.,  0.,  0.,  0.,  0.,  0.,  1., -2.,  1.],\n",
       "       [ 0.,  0.,  0.,  0.,  0.,  0.,  0.,  0.,  1., -2.]], dtype=float32)"
      ]
     },
     "execution_count": 6,
     "metadata": {},
     "output_type": "execute_result"
    }
   ],
   "source": [
    "N=10\n",
    "dx=1\n",
    "(-2 * np.diag(np.ones((N), np.float32), 0)\n",
    "            + np.diag(np.ones((N-1), np.float32), 1)\n",
    "            + np.diag(np.ones((N-1), np.float32), -1))/(dx**2)"
   ]
  },
  {
   "cell_type": "markdown",
   "id": "2d30041e",
   "metadata": {},
   "source": [
    "scipy稀疏矩阵的几个函数"
   ]
  },
  {
   "cell_type": "code",
   "execution_count": 4,
   "id": "1bcb84e1",
   "metadata": {},
   "outputs": [
    {
     "data": {
      "text/plain": [
       "<4x4 sparse matrix of type '<class 'numpy.float64'>'\n",
       "\twith 4 stored elements (1 diagonals) in DIAgonal format>"
      ]
     },
     "execution_count": 4,
     "metadata": {},
     "output_type": "execute_result"
    }
   ],
   "source": [
    "sparse.diags(np.ones((N), np.float32), 0)#生成对角阵\n",
    "sparse.identity(4)#生成单位阵"
   ]
  },
  {
   "cell_type": "markdown",
   "id": "dc07c1ae",
   "metadata": {},
   "source": [
    "波函数向量形式\n",
    "$$\n",
    "|\\Psi(t)\\rangle=\\left(\\begin{array}{c}\n",
    "\\Psi\\left(x_{1}\\right) \\\\\n",
    "\\Psi\\left(x_{2}\\right) \\\\\n",
    "\\Psi\\left(x_{3}\\right) \\\\\n",
    "\\ldots \\\\\n",
    "\\Psi\\left(x_{n}\\right)\n",
    "\\end{array}\\right)_{t}\n",
    "$$"
   ]
  },
  {
   "cell_type": "code",
   "execution_count": 10,
   "id": "1b65ae9c",
   "metadata": {},
   "outputs": [],
   "source": [
    "def psi(t=0):\n",
    "    return 0"
   ]
  },
  {
   "cell_type": "code",
   "execution_count": 11,
   "id": "ce627e6e",
   "metadata": {},
   "outputs": [
    {
     "data": {
      "text/plain": [
       "0"
      ]
     },
     "execution_count": 11,
     "metadata": {},
     "output_type": "execute_result"
    }
   ],
   "source": [
    "psi()"
   ]
  },
  {
   "cell_type": "markdown",
   "id": "1687f868",
   "metadata": {},
   "source": [
    "矩阵乘法"
   ]
  },
  {
   "cell_type": "code",
   "execution_count": 26,
   "id": "88ca23f4",
   "metadata": {},
   "outputs": [
    {
     "data": {
      "text/plain": [
       "array([[ 0.,  0.,  0.,  0.,  0.],\n",
       "       [ 0.,  1.,  0.,  0.,  0.],\n",
       "       [ 0.,  0.,  4.,  0.,  0.],\n",
       "       [ 0.,  0.,  0.,  9.,  0.],\n",
       "       [ 0.,  0.,  0.,  0., 16.]])"
      ]
     },
     "execution_count": 26,
     "metadata": {},
     "output_type": "execute_result"
    }
   ],
   "source": [
    "k = np.linspace(0, 4, 5)\n",
    "np.diag(k*k, 0)\n"
   ]
  },
  {
   "cell_type": "code",
   "execution_count": 32,
   "id": "0ca82ac3",
   "metadata": {},
   "outputs": [
    {
     "data": {
      "text/plain": [
       "array([ 0.5,  1. ,  1. ,  1. , -1.5])"
      ]
     },
     "execution_count": 32,
     "metadata": {},
     "output_type": "execute_result"
    }
   ],
   "source": [
    "np.dot((np.diag(np.ones((5-1), np.float32), 1)\n",
    " - np.diag(np.ones((5-1), np.float32), -1))/(2*dx),k)"
   ]
  },
  {
   "cell_type": "code",
   "execution_count": 47,
   "id": "23eaebec",
   "metadata": {},
   "outputs": [
    {
     "data": {
      "text/plain": [
       "array([[0.],\n",
       "       [1.],\n",
       "       [2.],\n",
       "       [3.],\n",
       "       [4.]])"
      ]
     },
     "metadata": {},
     "output_type": "display_data"
    }
   ],
   "source": [
    "display(k.reshape(5,1))"
   ]
  },
  {
   "cell_type": "code",
   "execution_count": 44,
   "id": "5b361fea",
   "metadata": {},
   "outputs": [
    {
     "data": {
      "text/plain": [
       "array([0., 1., 2., 3., 4.])"
      ]
     },
     "execution_count": 44,
     "metadata": {},
     "output_type": "execute_result"
    }
   ],
   "source": [
    "np.conjugate(k)#共轭\n",
    "k"
   ]
  },
  {
   "cell_type": "code",
   "execution_count": 49,
   "id": "97aabdd4",
   "metadata": {},
   "outputs": [
    {
     "data": {
      "text/plain": [
       "array([[ 0.,  0.,  0.,  0.,  0.],\n",
       "       [ 0.,  1.,  2.,  3.,  4.],\n",
       "       [ 0.,  2.,  4.,  6.,  8.],\n",
       "       [ 0.,  3.,  6.,  9., 12.],\n",
       "       [ 0.,  4.,  8., 12., 16.]])"
      ]
     },
     "execution_count": 49,
     "metadata": {},
     "output_type": "execute_result"
    }
   ],
   "source": [
    "k*k.reshape(5,1)"
   ]
  },
  {
   "cell_type": "code",
   "execution_count": 50,
   "id": "07b1a002",
   "metadata": {},
   "outputs": [
    {
     "data": {
      "text/plain": [
       "array([[ 0.,  0.,  0.,  0.,  0.],\n",
       "       [ 0.,  1.,  2.,  3.,  4.],\n",
       "       [ 0.,  2.,  4.,  6.,  8.],\n",
       "       [ 0.,  3.,  6.,  9., 12.],\n",
       "       [ 0.,  4.,  8., 12., 16.]])"
      ]
     },
     "execution_count": 50,
     "metadata": {},
     "output_type": "execute_result"
    }
   ],
   "source": [
    "k.reshape(5,1)*k"
   ]
  },
  {
   "cell_type": "code",
   "execution_count": 53,
   "id": "50b22cf1",
   "metadata": {},
   "outputs": [
    {
     "data": {
      "text/plain": [
       "30.0"
      ]
     },
     "execution_count": 53,
     "metadata": {},
     "output_type": "execute_result"
    }
   ],
   "source": [
    "np.dot(k,k)"
   ]
  },
  {
   "cell_type": "code",
   "execution_count": 61,
   "id": "39943811",
   "metadata": {},
   "outputs": [
    {
     "data": {
      "text/plain": [
       "array([30.])"
      ]
     },
     "execution_count": 61,
     "metadata": {},
     "output_type": "execute_result"
    }
   ],
   "source": [
    "np.dot(k,k.reshape(5,1))"
   ]
  },
  {
   "cell_type": "code",
   "execution_count": 60,
   "id": "e28ab56d",
   "metadata": {},
   "outputs": [
    {
     "ename": "ValueError",
     "evalue": "shapes (5,1) and (5,) not aligned: 1 (dim 1) != 5 (dim 0)",
     "output_type": "error",
     "traceback": [
      "\u001b[0;31m---------------------------------------------------------------------------\u001b[0m",
      "\u001b[0;31mValueError\u001b[0m                                Traceback (most recent call last)",
      "\u001b[0;32m<ipython-input-60-6f611d8e6ac0>\u001b[0m in \u001b[0;36m<module>\u001b[0;34m\u001b[0m\n\u001b[0;32m----> 1\u001b[0;31m \u001b[0mnp\u001b[0m\u001b[0;34m.\u001b[0m\u001b[0mdot\u001b[0m\u001b[0;34m(\u001b[0m\u001b[0mk\u001b[0m\u001b[0;34m.\u001b[0m\u001b[0mreshape\u001b[0m\u001b[0;34m(\u001b[0m\u001b[0;36m5\u001b[0m\u001b[0;34m,\u001b[0m\u001b[0;36m1\u001b[0m\u001b[0;34m)\u001b[0m\u001b[0;34m,\u001b[0m\u001b[0mk\u001b[0m\u001b[0;34m)\u001b[0m\u001b[0;34m\u001b[0m\u001b[0m\n\u001b[0m",
      "\u001b[0;32m<__array_function__ internals>\u001b[0m in \u001b[0;36mdot\u001b[0;34m(*args, **kwargs)\u001b[0m\n",
      "\u001b[0;31mValueError\u001b[0m: shapes (5,1) and (5,) not aligned: 1 (dim 1) != 5 (dim 0)"
     ]
    }
   ],
   "source": [
    "np.dot(k.reshape(5,1),k)"
   ]
  },
  {
   "cell_type": "code",
   "execution_count": 59,
   "id": "6330938a",
   "metadata": {},
   "outputs": [
    {
     "data": {
      "text/plain": [
       "30.0"
      ]
     },
     "execution_count": 59,
     "metadata": {},
     "output_type": "execute_result"
    }
   ],
   "source": [
    "np.dot(k,k)"
   ]
  },
  {
   "cell_type": "code",
   "execution_count": null,
   "id": "ad2fed53",
   "metadata": {},
   "outputs": [],
   "source": []
  }
 ],
 "metadata": {
  "kernelspec": {
   "display_name": "Python 3",
   "language": "python",
   "name": "python3"
  },
  "language_info": {
   "codemirror_mode": {
    "name": "ipython",
    "version": 3
   },
   "file_extension": ".py",
   "mimetype": "text/x-python",
   "name": "python",
   "nbconvert_exporter": "python",
   "pygments_lexer": "ipython3",
   "version": "3.5.2"
  }
 },
 "nbformat": 4,
 "nbformat_minor": 5
}
